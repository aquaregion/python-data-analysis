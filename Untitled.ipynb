{
 "cells": [
  {
   "cell_type": "markdown",
   "metadata": {},
   "source": [
    "# My first IPython notebook\n",
    "This is my first IPython notebook"
   ]
  },
  {
   "cell_type": "markdown",
   "metadata": {},
   "source": [
    "### Output cache"
   ]
  },
  {
   "cell_type": "code",
   "execution_count": 3,
   "metadata": {
    "collapsed": false
   },
   "outputs": [
    {
     "data": {
      "text/plain": [
       "10000000000"
      ]
     },
     "execution_count": 3,
     "metadata": {},
     "output_type": "execute_result"
    }
   ],
   "source": [
    "10**10"
   ]
  },
  {
   "cell_type": "code",
   "execution_count": 4,
   "metadata": {
    "collapsed": true
   },
   "outputs": [],
   "source": [
    "x  = Out[3]"
   ]
  },
  {
   "cell_type": "code",
   "execution_count": 5,
   "metadata": {
    "collapsed": false
   },
   "outputs": [
    {
     "name": "stdout",
     "output_type": "stream",
     "text": [
      "10000000000\n"
     ]
    }
   ],
   "source": [
    "print x"
   ]
  },
  {
   "cell_type": "markdown",
   "metadata": {},
   "source": [
    "##Instrospection"
   ]
  },
  {
   "cell_type": "code",
   "execution_count": 6,
   "metadata": {
    "collapsed": true
   },
   "outputs": [],
   "source": [
    "z = [1,2,3,4]"
   ]
  },
  {
   "cell_type": "code",
   "execution_count": 7,
   "metadata": {
    "collapsed": false
   },
   "outputs": [
    {
     "data": {
      "text/plain": [
       "list"
      ]
     },
     "execution_count": 7,
     "metadata": {},
     "output_type": "execute_result"
    }
   ],
   "source": [
    "type(z)"
   ]
  },
  {
   "cell_type": "code",
   "execution_count": 8,
   "metadata": {
    "collapsed": false
   },
   "outputs": [
    {
     "data": {
      "text/plain": [
       "<function insert>"
      ]
     },
     "execution_count": 8,
     "metadata": {},
     "output_type": "execute_result"
    }
   ],
   "source": [
    "z.insert #press shift + tab for a tooltip"
   ]
  },
  {
   "cell_type": "code",
   "execution_count": 14,
   "metadata": {
    "collapsed": true
   },
   "outputs": [],
   "source": [
    "numpy"
   ]
  },
  {
   "cell_type": "markdown",
   "metadata": {},
   "source": [
    "________"
   ]
  },
  {
   "cell_type": "markdown",
   "metadata": {},
   "source": [
    "#Markdown"
   ]
  },
  {
   "cell_type": "markdown",
   "metadata": {},
   "source": [
    "#Top level\n",
    "## Second level\n",
    "### Third level\n",
    "#### Forth level\n",
    "#####Fifth level"
   ]
  },
  {
   "cell_type": "markdown",
   "metadata": {},
   "source": [
    "> This is a blockquote\n",
    " >> another level\n",
    "   >>> another level"
   ]
  },
  {
   "cell_type": "markdown",
   "metadata": {},
   "source": [
    "*This is a italic text* **This is a bold face** "
   ]
  },
  {
   "cell_type": "markdown",
   "metadata": {},
   "source": [
    "* This is an item\n",
    "* this is a second item"
   ]
  },
  {
   "cell_type": "markdown",
   "metadata": {},
   "source": [
    "1. Test\n",
    "2. Test 2\n",
    "  1. test 3\n",
    "  2. test 4\n",
    "     1. test 5\n",
    "     2. test 6\n",
    "        1. test 7\n",
    "        "
   ]
  },
  {
   "cell_type": "markdown",
   "metadata": {},
   "source": [
    "### Code"
   ]
  },
  {
   "cell_type": "markdown",
   "metadata": {
    "collapsed": true
   },
   "source": [
    "```\n",
    "def power(a,b):\n",
    "   returns a**b\n",
    "```"
   ]
  },
  {
   "cell_type": "markdown",
   "metadata": {},
   "source": [
    "```python\n",
    "def fact(x):\n",
    "    if x == 1:\n",
    "        return 1\n",
    "    else:\n",
    "        return x*fact(x-1)\n",
    "```"
   ]
  },
  {
   "cell_type": "markdown",
   "metadata": {
    "collapsed": true
   },
   "source": [
    "$$\\sum$$\n"
   ]
  },
  {
   "cell_type": "markdown",
   "metadata": {},
   "source": [
    "#Magic functions"
   ]
  },
  {
   "cell_type": "code",
   "execution_count": 17,
   "metadata": {
    "collapsed": false
   },
   "outputs": [
    {
     "name": "stdout",
     "output_type": "stream",
     "text": [
      "1000 loops, best of 3: 395 µs per loop\n"
     ]
    }
   ],
   "source": [
    "%timeit [i for i in range(10000)]"
   ]
  },
  {
   "cell_type": "code",
   "execution_count": 18,
   "metadata": {
    "collapsed": false
   },
   "outputs": [
    {
     "name": "stdout",
     "output_type": "stream",
     "text": [
      "10000 loops, best of 3: 114 µs per loop\n"
     ]
    }
   ],
   "source": [
    "%%timeit \n",
    "my_list = []\n",
    "for i in range(1000):\n",
    "    my_list.append(i)\n",
    "    "
   ]
  },
  {
   "cell_type": "code",
   "execution_count": 20,
   "metadata": {
    "collapsed": false
   },
   "outputs": [
    {
     "data": {
      "text/plain": [
       "10000000000"
      ]
     },
     "execution_count": 20,
     "metadata": {},
     "output_type": "execute_result"
    }
   ],
   "source": [
    "x"
   ]
  },
  {
   "cell_type": "code",
   "execution_count": 21,
   "metadata": {
    "collapsed": false
   },
   "outputs": [
    {
     "name": "stdout",
     "output_type": "stream",
     "text": [
      "Stored 'x' (int)\n"
     ]
    }
   ],
   "source": [
    "%store x"
   ]
  },
  {
   "cell_type": "code",
   "execution_count": 22,
   "metadata": {
    "collapsed": false
   },
   "outputs": [
    {
     "name": "stdout",
     "output_type": "stream",
     "text": [
      "Stored variables and their in-db values:\n",
      "a21_2w_active_users                        -> '<unavailable>'\n",
      "data_x                                     -> array([ 0.        ,  0.47712125,  1.04139269, ...,\n",
      "dd_filtered_trajectory_lengths             -> array([(5, 3, 2), (6, 4, 2), (30, 2, 2), ..., (4, \n",
      "dd_long_rep_traj_length                    -> (252, 165, 340, 146, 474, 933, 452, 231, 1565, 690\n",
      "dd_long_rep_traj_nlocs                     -> (1, 1, 1, 1, 1, 1, 1, 1, 1, 1, 1, 1, 1, 1, 1, 1, 1\n",
      "dd_long_rep_traj_rep                       -> (1, 4, 14, 19, 5, 134, 2, 14, 7, 10, 6, 1, 12, 16,\n",
      "dd_w01_long_rep_traj_length                -> (5, 6, 30, 1, 13, 5, 1, 2, 12, 5, 10, 23, 3, 4, 5,\n",
      "eth                                        -> '<unavailable>'\n",
      "fit_jl                                     -> '<unavailable>'\n",
      "orders_hits                                -> '<unavailable>'\n",
      "ranks_hits                                 -> '<unavailable>'\n",
      "traj_df                                    -> '<unavailable>'\n",
      "trajectory_lengths                         -> array([(252, 1, 1), (165, 1, 4), (340, 1, 14), ...\n",
      "x                                          -> 10000000000\n"
     ]
    }
   ],
   "source": [
    "%store"
   ]
  },
  {
   "cell_type": "code",
   "execution_count": 24,
   "metadata": {
    "collapsed": false
   },
   "outputs": [],
   "source": [
    "%store x"
   ]
  },
  {
   "cell_type": "code",
   "execution_count": 27,
   "metadata": {
    "collapsed": false
   },
   "outputs": [
    {
     "ename": "NameError",
     "evalue": "name 'x' is not defined",
     "output_type": "error",
     "traceback": [
      "\u001b[0;31m---------------------------------------------------------------------------\u001b[0m",
      "\u001b[0;31mNameError\u001b[0m                                 Traceback (most recent call last)",
      "\u001b[0;32m<ipython-input-27-f1a17da3ff97>\u001b[0m in \u001b[0;36m<module>\u001b[0;34m()\u001b[0m\n\u001b[0;32m----> 1\u001b[0;31m \u001b[0;32mdel\u001b[0m\u001b[0;34m(\u001b[0m\u001b[0mx\u001b[0m\u001b[0;34m)\u001b[0m\u001b[0;34m\u001b[0m\u001b[0m\n\u001b[0m",
      "\u001b[0;31mNameError\u001b[0m: name 'x' is not defined"
     ]
    }
   ],
   "source": [
    "del(x)"
   ]
  },
  {
   "cell_type": "code",
   "execution_count": 28,
   "metadata": {
    "collapsed": false
   },
   "outputs": [
    {
     "ename": "NameError",
     "evalue": "name 'x' is not defined",
     "output_type": "error",
     "traceback": [
      "\u001b[0;31m---------------------------------------------------------------------------\u001b[0m",
      "\u001b[0;31mNameError\u001b[0m                                 Traceback (most recent call last)",
      "\u001b[0;32m<ipython-input-28-401b30e3b8b5>\u001b[0m in \u001b[0;36m<module>\u001b[0;34m()\u001b[0m\n\u001b[0;32m----> 1\u001b[0;31m \u001b[0mx\u001b[0m\u001b[0;34m\u001b[0m\u001b[0m\n\u001b[0m",
      "\u001b[0;31mNameError\u001b[0m: name 'x' is not defined"
     ]
    }
   ],
   "source": [
    "x"
   ]
  },
  {
   "cell_type": "code",
   "execution_count": 29,
   "metadata": {
    "collapsed": true
   },
   "outputs": [],
   "source": [
    "%store -r x"
   ]
  },
  {
   "cell_type": "code",
   "execution_count": 30,
   "metadata": {
    "collapsed": false
   },
   "outputs": [
    {
     "data": {
      "text/plain": [
       "10000000000"
      ]
     },
     "execution_count": 30,
     "metadata": {},
     "output_type": "execute_result"
    }
   ],
   "source": [
    "x"
   ]
  },
  {
   "cell_type": "code",
   "execution_count": 31,
   "metadata": {
    "collapsed": true
   },
   "outputs": [],
   "source": [
    "%store -d x"
   ]
  },
  {
   "cell_type": "code",
   "execution_count": 32,
   "metadata": {
    "collapsed": false
   },
   "outputs": [
    {
     "name": "stdout",
     "output_type": "stream",
     "text": [
      "Stored variables and their in-db values:\n",
      "a21_2w_active_users                        -> '<unavailable>'\n",
      "data_x                                     -> array([ 0.        ,  0.47712125,  1.04139269, ...,\n",
      "dd_filtered_trajectory_lengths             -> array([(5, 3, 2), (6, 4, 2), (30, 2, 2), ..., (4, \n",
      "dd_long_rep_traj_length                    -> (252, 165, 340, 146, 474, 933, 452, 231, 1565, 690\n",
      "dd_long_rep_traj_nlocs                     -> (1, 1, 1, 1, 1, 1, 1, 1, 1, 1, 1, 1, 1, 1, 1, 1, 1\n",
      "dd_long_rep_traj_rep                       -> (1, 4, 14, 19, 5, 134, 2, 14, 7, 10, 6, 1, 12, 16,\n",
      "dd_w01_long_rep_traj_length                -> (5, 6, 30, 1, 13, 5, 1, 2, 12, 5, 10, 23, 3, 4, 5,\n",
      "eth                                        -> '<unavailable>'\n",
      "fit_jl                                     -> '<unavailable>'\n",
      "orders_hits                                -> '<unavailable>'\n",
      "ranks_hits                                 -> '<unavailable>'\n",
      "traj_df                                    -> '<unavailable>'\n",
      "trajectory_lengths                         -> array([(252, 1, 1), (165, 1, 4), (340, 1, 14), ...\n"
     ]
    }
   ],
   "source": [
    "%store"
   ]
  },
  {
   "cell_type": "code",
   "execution_count": 34,
   "metadata": {
    "collapsed": true
   },
   "outputs": [],
   "source": [
    "def fib(n):\n",
    "    if n<=2:\n",
    "        result= 1\n",
    "    else:\n",
    "        result = fib(n-1)+fib(n-2)\n",
    "    return result\n",
    "\n",
    "def fib_prev(n):\n",
    "    prev1 = 0\n",
    "    prev2 = 1\n",
    "    for i in range(n):\n",
    "        prev1,prev2 = prev2,prev1+prev2\n",
    "    return prev1\n",
    "\n",
    "memo = {}\n",
    "def memoized_fib(n):\n",
    "    if memo.has_key(n):\n",
    "        return memo[n]\n",
    "    else:\n",
    "        if n == 1 or n == 2:\n",
    "            result = 1\n",
    "        else:\n",
    "            result = memoized_fib(n-1) + memoized_fib(n-2)\n",
    "        memo[n] = result\n",
    "        return result"
   ]
  },
  {
   "cell_type": "code",
   "execution_count": 35,
   "metadata": {
    "collapsed": false
   },
   "outputs": [
    {
     "name": "stdout",
     "output_type": "stream",
     "text": [
      "10 loops, best of 3: 27.4 µs per loop\n",
      "10 loops, best of 3: 2 µs per loop\n",
      "10 loops, best of 3: 787 ns per loop\n",
      "10 loops, best of 3: 53.9 µs per loop\n",
      "10 loops, best of 3: 3 µs per loop\n",
      "10 loops, best of 3: 405 ns per loop\n",
      "10 loops, best of 3: 44.6 µs per loop\n",
      "10 loops, best of 3: 2.38 µs per loop\n",
      "10 loops, best of 3: 501 ns per loop\n",
      "10 loops, best of 3: 72.1 µs per loop\n",
      "10 loops, best of 3: 1.79 µs per loop\n",
      "10 loops, best of 3: 501 ns per loop\n",
      "10 loops, best of 3: 120 µs per loop\n",
      "10 loops, best of 3: 1.79 µs per loop\n",
      "10 loops, best of 3: 501 ns per loop\n",
      "10 loops, best of 3: 191 µs per loop\n",
      "10 loops, best of 3: 1.81 µs per loop\n",
      "10 loops, best of 3: 286 ns per loop\n",
      "10 loops, best of 3: 322 µs per loop\n",
      "10 loops, best of 3: 2.5 µs per loop\n",
      "10 loops, best of 3: 596 ns per loop\n",
      "10 loops, best of 3: 639 µs per loop\n",
      "10 loops, best of 3: 1.98 µs per loop\n",
      "10 loops, best of 3: 405 ns per loop\n",
      "10 loops, best of 3: 821 µs per loop\n",
      "10 loops, best of 3: 1.98 µs per loop\n",
      "10 loops, best of 3: 286 ns per loop\n",
      "10 loops, best of 3: 1.42 ms per loop\n",
      "10 loops, best of 3: 2.1 µs per loop\n",
      "10 loops, best of 3: 405 ns per loop\n",
      "10 loops, best of 3: 2.05 ms per loop\n",
      "10 loops, best of 3: 2.19 µs per loop\n",
      "10 loops, best of 3: 310 ns per loop\n",
      "10 loops, best of 3: 3.29 ms per loop\n",
      "10 loops, best of 3: 2.1 µs per loop\n",
      "10 loops, best of 3: 310 ns per loop\n",
      "10 loops, best of 3: 5.34 ms per loop\n",
      "10 loops, best of 3: 2.31 µs per loop\n",
      "10 loops, best of 3: 310 ns per loop\n",
      "10 loops, best of 3: 9.88 ms per loop\n",
      "10 loops, best of 3: 2.31 µs per loop\n",
      "10 loops, best of 3: 405 ns per loop\n",
      "10 loops, best of 3: 14.7 ms per loop\n",
      "10 loops, best of 3: 3.31 µs per loop\n",
      "10 loops, best of 3: 286 ns per loop\n",
      "10 loops, best of 3: 24.6 ms per loop\n",
      "10 loops, best of 3: 2.5 µs per loop\n",
      "10 loops, best of 3: 286 ns per loop\n",
      "10 loops, best of 3: 37.2 ms per loop\n",
      "10 loops, best of 3: 2.6 µs per loop\n",
      "10 loops, best of 3: 286 ns per loop\n",
      "10 loops, best of 3: 62 ms per loop\n",
      "10 loops, best of 3: 3.81 µs per loop\n",
      "10 loops, best of 3: 286 ns per loop\n",
      "10 loops, best of 3: 99.2 ms per loop\n",
      "10 loops, best of 3: 2.69 µs per loop\n",
      "10 loops, best of 3: 405 ns per loop\n",
      "10 loops, best of 3: 166 ms per loop\n",
      "10 loops, best of 3: 3.91 µs per loop\n",
      "10 loops, best of 3: 405 ns per loop\n"
     ]
    }
   ],
   "source": [
    "times_recursive = []\n",
    "times_iter = []\n",
    "times_dynamic = []\n",
    "for i in range(10,30):\n",
    "    t1 = %timeit -o -n 10 fib(i)\n",
    "    t2 = %timeit -o -n 10 fib_prev(i)    \n",
    "    t3 = %timeit -o -n 10 memoized_fib(i)    \n",
    "    times_recursive.append(t1.best)\n",
    "    times_iter.append(t2.best)    \n",
    "    times_dynamic.append(t3.best)   "
   ]
  },
  {
   "cell_type": "code",
   "execution_count": 36,
   "metadata": {
    "collapsed": false
   },
   "outputs": [
    {
     "data": {
      "text/plain": [
       "[<matplotlib.lines.Line2D at 0x10f8bcc90>]"
      ]
     },
     "execution_count": 36,
     "metadata": {},
     "output_type": "execute_result"
    },
    {
     "data": {
      "image/png": "[encoded data removed]",
      "text/plain": [
       "<matplotlib.figure.Figure at 0x10edde6d0>"
      ]
     },
     "metadata": {},
     "output_type": "display_data"
    }
   ],
   "source": [
    "import matplotlib.pyplot as plt\n",
    "%matplotlib inline\n",
    "plt.plot(range(10,30),times_recursive)\n",
    "plt.plot(range(10,30),times_iter)\n",
    "plt.plot(range(10,30),times_dynamic)"
   ]
  },
  {
   "cell_type": "code",
   "execution_count": null,
   "metadata": {
    "collapsed": true
   },
   "outputs": [],
   "source": []
  }
 ],
 "metadata": {
  "kernelspec": {
   "display_name": "Python 2",
   "language": "python",
   "name": "python2"
  },
  "language_info": {
   "codemirror_mode": {
    "name": "ipython",
    "version": 2
   },
   "file_extension": ".py",
   "mimetype": "text/x-python",
   "name": "python",
   "nbconvert_exporter": "python",
   "pygments_lexer": "ipython2",
   "version": "2.7.8"
  }
 },
 "nbformat": 4,
 "nbformat_minor": 0
}
