{
 "cells": [
  {
   "cell_type": "code",
   "execution_count": 11,
   "metadata": {
    "collapsed": false
   },
   "outputs": [
    {
     "name": "stdout",
     "output_type": "stream",
     "text": [
      "1\n",
      "2\n",
      "It's 3\n",
      "3\n",
      "4\n",
      "5\n",
      "End\n"
     ]
    }
   ],
   "source": [
    "values = [1,2,3,4,5]\n",
    "for v in values:\n",
    "    if v == 3:\n",
    "        print \"It's 3\"\n",
    "    print v\n",
    "print \"End\"\n",
    "        \n",
    "    "
   ]
  },
  {
   "cell_type": "code",
   "execution_count": 12,
   "metadata": {
    "collapsed": false
   },
   "outputs": [
    {
     "name": "stdout",
     "output_type": "stream",
     "text": [
      "Enter a number between 20 and 30: 21\n",
      "21^2 = 441\n"
     ]
    }
   ],
   "source": [
    "num = int(raw_input(\"Enter a number between 20 and 30: \"))\n",
    "if num  < 20:\n",
    "    print \"Too small. Please, try again!\" \n",
    "elif num >= 20 and num <= 30:\n",
    "    print \"%d^2 = %d\"%(num,num**2)\n",
    "else:\n",
    "    print \"Too large. Please, try again!\""
   ]
  },
  {
   "cell_type": "code",
   "execution_count": 39,
   "metadata": {
    "collapsed": true
   },
   "outputs": [],
   "source": [
    "def add(x,y):\n",
    "    return x + y,x**y,x,y\n",
    "\n",
    "def add2(x,function):\n",
    "    return lambda x: x+2 if x > 5 else 10"
   ]
  },
  {
   "cell_type": "code",
   "execution_count": 48,
   "metadata": {
    "collapsed": false
   },
   "outputs": [],
   "source": [
    "def power(a,b=2,c=10,d=9): #default parameter values\n",
    "    return a**b\n"
   ]
  },
  {
   "cell_type": "code",
   "execution_count": 46,
   "metadata": {
    "collapsed": false
   },
   "outputs": [
    {
     "data": {
      "text/plain": [
       "100"
      ]
     },
     "execution_count": 46,
     "metadata": {},
     "output_type": "execute_result"
    }
   ],
   "source": [
    "power(10,c=3)"
   ]
  },
  {
   "cell_type": "code",
   "execution_count": 49,
   "metadata": {
    "collapsed": true
   },
   "outputs": [],
   "source": [
    "def client(host='localhost',port=80,username='hugo',cert_file='my_cert.pem'):\n",
    "    return \"Connecting user %s to host %s, port %d with password %s\"%(username,\n",
    "                                                                        host,\n",
    "                                                                        port,\n",
    "                                                                        cert_file)  "
   ]
  },
  {
   "cell_type": "code",
   "execution_count": 50,
   "metadata": {
    "collapsed": false
   },
   "outputs": [
    {
     "data": {
      "text/plain": [
       "'Connecting user hugo to host 192.168.0.1, port 80 with password my_cert.pem'"
      ]
     },
     "execution_count": 50,
     "metadata": {},
     "output_type": "execute_result"
    }
   ],
   "source": [
    "client(host=\"192.168.0.1\")"
   ]
  },
  {
   "cell_type": "code",
   "execution_count": 51,
   "metadata": {
    "collapsed": false
   },
   "outputs": [
    {
     "data": {
      "text/plain": [
       "'Connecting user jow to host 192.168.0.1, port 23 with password my_cert.pem'"
      ]
     },
     "execution_count": 51,
     "metadata": {},
     "output_type": "execute_result"
    }
   ],
   "source": [
    "client(\"192.168.0.1\",23,'jow')"
   ]
  },
  {
   "cell_type": "code",
   "execution_count": 56,
   "metadata": {
    "collapsed": false
   },
   "outputs": [
    {
     "data": {
      "text/plain": [
       "[1, 2, 3, 2.3]"
      ]
     },
     "execution_count": 56,
     "metadata": {},
     "output_type": "execute_result"
    }
   ],
   "source": [
    "my_list =  [ '1','2','3','2.3']\n",
    "map(lambda x: float(x) if '.'  in x else int(x),my_list)"
   ]
  },
  {
   "cell_type": "code",
   "execution_count": 57,
   "metadata": {
    "collapsed": true
   },
   "outputs": [],
   "source": [
    "gt_3 = lambda x: x > 3"
   ]
  },
  {
   "cell_type": "code",
   "execution_count": 58,
   "metadata": {
    "collapsed": false
   },
   "outputs": [
    {
     "data": {
      "text/plain": [
       "[4, 5, 6, 7, 8]"
      ]
     },
     "execution_count": 58,
     "metadata": {},
     "output_type": "execute_result"
    }
   ],
   "source": [
    "my_other_list = [1,2,3,4,5,6,7,8]\n",
    "filter(gt_3,my_other_list)"
   ]
  },
  {
   "cell_type": "code",
   "execution_count": 83,
   "metadata": {
    "collapsed": true
   },
   "outputs": [],
   "source": [
    "def is_even(z):\n",
    "    return z[0]%2 == 0 and z[1]%2==0"
   ]
  },
  {
   "cell_type": "code",
   "execution_count": 84,
   "metadata": {
    "collapsed": false
   },
   "outputs": [
    {
     "data": {
      "text/plain": [
       "[(2, 4), (4, 4)]"
      ]
     },
     "execution_count": 84,
     "metadata": {},
     "output_type": "execute_result"
    }
   ],
   "source": [
    "filter(is_even,[(2,4),(3,3),(2,3),(4,4)])"
   ]
  },
  {
   "cell_type": "markdown",
   "metadata": {},
   "source": [
    "__________________"
   ]
  },
  {
   "cell_type": "markdown",
   "metadata": {},
   "source": [
    "###List comprehension"
   ]
  },
  {
   "cell_type": "code",
   "execution_count": 85,
   "metadata": {
    "collapsed": true
   },
   "outputs": [],
   "source": [
    "my_values = [1,2,3,4,3,2,1,2]"
   ]
  },
  {
   "cell_type": "code",
   "execution_count": 86,
   "metadata": {
    "collapsed": false
   },
   "outputs": [
    {
     "data": {
      "text/plain": [
       "[1.0, 2.0, 3.0, 4.0, 3.0, 2.0, 1.0, 2.0]"
      ]
     },
     "execution_count": 86,
     "metadata": {},
     "output_type": "execute_result"
    }
   ],
   "source": [
    "map(float,my_values)"
   ]
  },
  {
   "cell_type": "code",
   "execution_count": 101,
   "metadata": {
    "collapsed": false
   },
   "outputs": [],
   "source": [
    "float_values = [i+j for i in my_values for j in range(1,5) if i%j == 0 ]"
   ]
  },
  {
   "cell_type": "code",
   "execution_count": 102,
   "metadata": {
    "collapsed": false
   },
   "outputs": [
    {
     "data": {
      "text/plain": [
       "[2, 3, 4, 4, 6, 5, 6, 8, 4, 6, 3, 4, 2, 3, 4]"
      ]
     },
     "execution_count": 102,
     "metadata": {},
     "output_type": "execute_result"
    }
   ],
   "source": [
    "float_values"
   ]
  },
  {
   "cell_type": "code",
   "execution_count": 110,
   "metadata": {
    "collapsed": false,
    "scrolled": true
   },
   "outputs": [
    {
     "name": "stdout",
     "output_type": "stream",
     "text": [
      "['5.1', '3.5', '1.4', '0.2', 'Iris-setosa\\n']\n",
      "['4.9', '3.0', '1.4', '0.2', 'Iris-setosa\\n']\n",
      "['4.7', '3.2', '1.3', '0.2', 'Iris-setosa\\n']\n",
      "['4.6', '3.1', '1.5', '0.2', 'Iris-setosa\\n']\n",
      "['5.0', '3.6', '1.4', '0.2', 'Iris-setosa\\n']\n",
      "['5.4', '3.9', '1.7', '0.4', 'Iris-setosa\\n']\n",
      "['4.6', '3.4', '1.4', '0.3', 'Iris-setosa\\n']\n",
      "['5.0', '3.4', '1.5', '0.2', 'Iris-setosa\\n']\n",
      "['4.4', '2.9', '1.4', '0.2', 'Iris-setosa\\n']\n",
      "['4.9', '3.1', '1.5', '0.1', 'Iris-setosa\\n']\n",
      "['5.4', '3.7', '1.5', '0.2', 'Iris-setosa\\n']\n",
      "['4.8', '3.4', '1.6', '0.2', 'Iris-setosa\\n']\n",
      "['4.8', '3.0', '1.4', '0.1', 'Iris-setosa\\n']\n",
      "['4.3', '3.0', '1.1', '0.1', 'Iris-setosa\\n']\n",
      "['5.8', '4.0', '1.2', '0.2', 'Iris-setosa\\n']\n",
      "['5.7', '4.4', '1.5', '0.4', 'Iris-setosa\\n']\n",
      "['5.4', '3.9', '1.3', '0.4', 'Iris-setosa\\n']\n",
      "['5.1', '3.5', '1.4', '0.3', 'Iris-setosa\\n']\n",
      "['5.7', '3.8', '1.7', '0.3', 'Iris-setosa\\n']\n",
      "['5.1', '3.8', '1.5', '0.3', 'Iris-setosa\\n']\n",
      "['5.4', '3.4', '1.7', '0.2', 'Iris-setosa\\n']\n",
      "['5.1', '3.7', '1.5', '0.4', 'Iris-setosa\\n']\n",
      "['4.6', '3.6', '1.0', '0.2', 'Iris-setosa\\n']\n",
      "['5.1', '3.3', '1.7', '0.5', 'Iris-setosa\\n']\n",
      "['4.8', '3.4', '1.9', '0.2', 'Iris-setosa\\n']\n",
      "['5.0', '3.0', '1.6', '0.2', 'Iris-setosa\\n']\n",
      "['5.0', '3.4', '1.6', '0.4', 'Iris-setosa\\n']\n",
      "['5.2', '3.5', '1.5', '0.2', 'Iris-setosa\\n']\n",
      "['5.2', '3.4', '1.4', '0.2', 'Iris-setosa\\n']\n",
      "['4.7', '3.2', '1.6', '0.2', 'Iris-setosa\\n']\n",
      "['4.8', '3.1', '1.6', '0.2', 'Iris-setosa\\n']\n",
      "['5.4', '3.4', '1.5', '0.4', 'Iris-setosa\\n']\n",
      "['5.2', '4.1', '1.5', '0.1', 'Iris-setosa\\n']\n",
      "['5.5', '4.2', '1.4', '0.2', 'Iris-setosa\\n']\n",
      "['4.9', '3.1', '1.5', '0.1', 'Iris-setosa\\n']\n",
      "['5.0', '3.2', '1.2', '0.2', 'Iris-setosa\\n']\n",
      "['5.5', '3.5', '1.3', '0.2', 'Iris-setosa\\n']\n",
      "['4.9', '3.1', '1.5', '0.1', 'Iris-setosa\\n']\n",
      "['4.4', '3.0', '1.3', '0.2', 'Iris-setosa\\n']\n",
      "['5.1', '3.4', '1.5', '0.2', 'Iris-setosa\\n']\n",
      "['5.0', '3.5', '1.3', '0.3', 'Iris-setosa\\n']\n",
      "['4.5', '2.3', '1.3', '0.3', 'Iris-setosa\\n']\n",
      "['4.4', '3.2', '1.3', '0.2', 'Iris-setosa\\n']\n",
      "['5.0', '3.5', '1.6', '0.6', 'Iris-setosa\\n']\n",
      "['5.1', '3.8', '1.9', '0.4', 'Iris-setosa\\n']\n",
      "['4.8', '3.0', '1.4', '0.3', 'Iris-setosa\\n']\n",
      "['5.1', '3.8', '1.6', '0.2', 'Iris-setosa\\n']\n",
      "['4.6', '3.2', '1.4', '0.2', 'Iris-setosa\\n']\n",
      "['5.3', '3.7', '1.5', '0.2', 'Iris-setosa\\n']\n",
      "['5.0', '3.3', '1.4', '0.2', 'Iris-setosa\\n']\n",
      "['7.0', '3.2', '4.7', '1.4', 'Iris-versicolor\\n']\n",
      "['6.4', '3.2', '4.5', '1.5', 'Iris-versicolor\\n']\n",
      "['6.9', '3.1', '4.9', '1.5', 'Iris-versicolor\\n']\n",
      "['5.5', '2.3', '4.0', '1.3', 'Iris-versicolor\\n']\n",
      "['6.5', '2.8', '4.6', '1.5', 'Iris-versicolor\\n']\n",
      "['5.7', '2.8', '4.5', '1.3', 'Iris-versicolor\\n']\n",
      "['6.3', '3.3', '4.7', '1.6', 'Iris-versicolor\\n']\n",
      "['4.9', '2.4', '3.3', '1.0', 'Iris-versicolor\\n']\n",
      "['6.6', '2.9', '4.6', '1.3', 'Iris-versicolor\\n']\n",
      "['5.2', '2.7', '3.9', '1.4', 'Iris-versicolor\\n']\n",
      "['5.0', '2.0', '3.5', '1.0', 'Iris-versicolor\\n']\n",
      "['5.9', '3.0', '4.2', '1.5', 'Iris-versicolor\\n']\n",
      "['6.0', '2.2', '4.0', '1.0', 'Iris-versicolor\\n']\n",
      "['6.1', '2.9', '4.7', '1.4', 'Iris-versicolor\\n']\n",
      "['5.6', '2.9', '3.6', '1.3', 'Iris-versicolor\\n']\n",
      "['6.7', '3.1', '4.4', '1.4', 'Iris-versicolor\\n']\n",
      "['5.6', '3.0', '4.5', '1.5', 'Iris-versicolor\\n']\n",
      "['5.8', '2.7', '4.1', '1.0', 'Iris-versicolor\\n']\n",
      "['6.2', '2.2', '4.5', '1.5', 'Iris-versicolor\\n']\n",
      "['5.6', '2.5', '3.9', '1.1', 'Iris-versicolor\\n']\n",
      "['5.9', '3.2', '4.8', '1.8', 'Iris-versicolor\\n']\n",
      "['6.1', '2.8', '4.0', '1.3', 'Iris-versicolor\\n']\n",
      "['6.3', '2.5', '4.9', '1.5', 'Iris-versicolor\\n']\n",
      "['6.1', '2.8', '4.7', '1.2', 'Iris-versicolor\\n']\n",
      "['6.4', '2.9', '4.3', '1.3', 'Iris-versicolor\\n']\n",
      "['6.6', '3.0', '4.4', '1.4', 'Iris-versicolor\\n']\n",
      "['6.8', '2.8', '4.8', '1.4', 'Iris-versicolor\\n']\n",
      "['6.7', '3.0', '5.0', '1.7', 'Iris-versicolor\\n']\n",
      "['6.0', '2.9', '4.5', '1.5', 'Iris-versicolor\\n']\n",
      "['5.7', '2.6', '3.5', '1.0', 'Iris-versicolor\\n']\n",
      "['5.5', '2.4', '3.8', '1.1', 'Iris-versicolor\\n']\n",
      "['5.5', '2.4', '3.7', '1.0', 'Iris-versicolor\\n']\n",
      "['5.8', '2.7', '3.9', '1.2', 'Iris-versicolor\\n']\n",
      "['6.0', '2.7', '5.1', '1.6', 'Iris-versicolor\\n']\n",
      "['5.4', '3.0', '4.5', '1.5', 'Iris-versicolor\\n']\n",
      "['6.0', '3.4', '4.5', '1.6', 'Iris-versicolor\\n']\n",
      "['6.7', '3.1', '4.7', '1.5', 'Iris-versicolor\\n']\n",
      "['6.3', '2.3', '4.4', '1.3', 'Iris-versicolor\\n']\n",
      "['5.6', '3.0', '4.1', '1.3', 'Iris-versicolor\\n']\n",
      "['5.5', '2.5', '4.0', '1.3', 'Iris-versicolor\\n']\n",
      "['5.5', '2.6', '4.4', '1.2', 'Iris-versicolor\\n']\n",
      "['6.1', '3.0', '4.6', '1.4', 'Iris-versicolor\\n']\n",
      "['5.8', '2.6', '4.0', '1.2', 'Iris-versicolor\\n']\n",
      "['5.0', '2.3', '3.3', '1.0', 'Iris-versicolor\\n']\n",
      "['5.6', '2.7', '4.2', '1.3', 'Iris-versicolor\\n']\n",
      "['5.7', '3.0', '4.2', '1.2', 'Iris-versicolor\\n']\n",
      "['5.7', '2.9', '4.2', '1.3', 'Iris-versicolor\\n']\n",
      "['6.2', '2.9', '4.3', '1.3', 'Iris-versicolor\\n']\n",
      "['5.1', '2.5', '3.0', '1.1', 'Iris-versicolor\\n']\n",
      "['5.7', '2.8', '4.1', '1.3', 'Iris-versicolor\\n']\n",
      "['6.3', '3.3', '6.0', '2.5', 'Iris-virginica\\n']\n",
      "['5.8', '2.7', '5.1', '1.9', 'Iris-virginica\\n']\n",
      "['7.1', '3.0', '5.9', '2.1', 'Iris-virginica\\n']\n",
      "['6.3', '2.9', '5.6', '1.8', 'Iris-virginica\\n']\n",
      "['6.5', '3.0', '5.8', '2.2', 'Iris-virginica\\n']\n",
      "['7.6', '3.0', '6.6', '2.1', 'Iris-virginica\\n']\n",
      "['4.9', '2.5', '4.5', '1.7', 'Iris-virginica\\n']\n",
      "['7.3', '2.9', '6.3', '1.8', 'Iris-virginica\\n']\n",
      "['6.7', '2.5', '5.8', '1.8', 'Iris-virginica\\n']\n",
      "['7.2', '3.6', '6.1', '2.5', 'Iris-virginica\\n']\n",
      "['6.5', '3.2', '5.1', '2.0', 'Iris-virginica\\n']\n",
      "['6.4', '2.7', '5.3', '1.9', 'Iris-virginica\\n']\n",
      "['6.8', '3.0', '5.5', '2.1', 'Iris-virginica\\n']\n",
      "['5.7', '2.5', '5.0', '2.0', 'Iris-virginica\\n']\n",
      "['5.8', '2.8', '5.1', '2.4', 'Iris-virginica\\n']\n",
      "['6.4', '3.2', '5.3', '2.3', 'Iris-virginica\\n']\n",
      "['6.5', '3.0', '5.5', '1.8', 'Iris-virginica\\n']\n",
      "['7.7', '3.8', '6.7', '2.2', 'Iris-virginica\\n']\n",
      "['7.7', '2.6', '6.9', '2.3', 'Iris-virginica\\n']\n",
      "['6.0', '2.2', '5.0', '1.5', 'Iris-virginica\\n']\n",
      "['6.9', '3.2', '5.7', '2.3', 'Iris-virginica\\n']\n",
      "['5.6', '2.8', '4.9', '2.0', 'Iris-virginica\\n']\n",
      "['7.7', '2.8', '6.7', '2.0', 'Iris-virginica\\n']\n",
      "['6.3', '2.7', '4.9', '1.8', 'Iris-virginica\\n']\n",
      "['6.7', '3.3', '5.7', '2.1', 'Iris-virginica\\n']\n",
      "['7.2', '3.2', '6.0', '1.8', 'Iris-virginica\\n']\n",
      "['6.2', '2.8', '4.8', '1.8', 'Iris-virginica\\n']\n",
      "['6.1', '3.0', '4.9', '1.8', 'Iris-virginica\\n']\n",
      "['6.4', '2.8', '5.6', '2.1', 'Iris-virginica\\n']\n",
      "['7.2', '3.0', '5.8', '1.6', 'Iris-virginica\\n']\n",
      "['7.4', '2.8', '6.1', '1.9', 'Iris-virginica\\n']\n",
      "['7.9', '3.8', '6.4', '2.0', 'Iris-virginica\\n']\n",
      "['6.4', '2.8', '5.6', '2.2', 'Iris-virginica\\n']\n",
      "['6.3', '2.8', '5.1', '1.5', 'Iris-virginica\\n']\n",
      "['6.1', '2.6', '5.6', '1.4', 'Iris-virginica\\n']\n",
      "['7.7', '3.0', '6.1', '2.3', 'Iris-virginica\\n']\n",
      "['6.3', '3.4', '5.6', '2.4', 'Iris-virginica\\n']\n",
      "['6.4', '3.1', '5.5', '1.8', 'Iris-virginica\\n']\n",
      "['6.0', '3.0', '4.8', '1.8', 'Iris-virginica\\n']\n",
      "['6.9', '3.1', '5.4', '2.1', 'Iris-virginica\\n']\n",
      "['6.7', '3.1', '5.6', '2.4', 'Iris-virginica\\n']\n",
      "['6.9', '3.1', '5.1', '2.3', 'Iris-virginica\\n']\n",
      "['5.8', '2.7', '5.1', '1.9', 'Iris-virginica\\n']\n",
      "['6.8', '3.2', '5.9', '2.3', 'Iris-virginica\\n']\n",
      "['6.7', '3.3', '5.7', '2.5', 'Iris-virginica\\n']\n",
      "['6.7', '3.0', '5.2', '2.3', 'Iris-virginica\\n']\n",
      "['6.3', '2.5', '5.0', '1.9', 'Iris-virginica\\n']\n",
      "['6.5', '3.0', '5.2', '2.0', 'Iris-virginica\\n']\n",
      "['6.2', '3.4', '5.4', '2.3', 'Iris-virginica\\n']\n",
      "['5.9', '3.0', '5.1', '1.8', 'Iris-virginica\\n']\n",
      "['\\n']\n"
     ]
    }
   ],
   "source": [
    "my_file = open('./data/iris.txt','r')\n",
    "for row in my_file:\n",
    "    print row.split(',')"
   ]
  },
  {
   "cell_type": "code",
   "execution_count": 113,
   "metadata": {
    "collapsed": false
   },
   "outputs": [],
   "source": [
    "my_file = open('./data/iris.txt','r')"
   ]
  },
  {
   "cell_type": "code",
   "execution_count": 114,
   "metadata": {
    "collapsed": false
   },
   "outputs": [
    {
     "data": {
      "text/plain": [
       "'5.1,3.5,1.4,0.2,Iris-setosa\\n4.9,3.0,1.4,0.2,Iris-setosa\\n4.7,3.2,1.3,0.2,Iris-setosa\\n4.6,3.1,1.5,0.2,Iris-setosa\\n5.0,3.6,1.4,0.2,Iris-setosa\\n5.4,3.9,1.7,0.4,Iris-setosa\\n4.6,3.4,1.4,0.3,Iris-setosa\\n5.0,3.4,1.5,0.2,Iris-setosa\\n4.4,2.9,1.4,0.2,Iris-setosa\\n4.9,3.1,1.5,0.1,Iris-setosa\\n5.4,3.7,1.5,0.2,Iris-setosa\\n4.8,3.4,1.6,0.2,Iris-setosa\\n4.8,3.0,1.4,0.1,Iris-setosa\\n4.3,3.0,1.1,0.1,Iris-setosa\\n5.8,4.0,1.2,0.2,Iris-setosa\\n5.7,4.4,1.5,0.4,Iris-setosa\\n5.4,3.9,1.3,0.4,Iris-setosa\\n5.1,3.5,1.4,0.3,Iris-setosa\\n5.7,3.8,1.7,0.3,Iris-setosa\\n5.1,3.8,1.5,0.3,Iris-setosa\\n5.4,3.4,1.7,0.2,Iris-setosa\\n5.1,3.7,1.5,0.4,Iris-setosa\\n4.6,3.6,1.0,0.2,Iris-setosa\\n5.1,3.3,1.7,0.5,Iris-setosa\\n4.8,3.4,1.9,0.2,Iris-setosa\\n5.0,3.0,1.6,0.2,Iris-setosa\\n5.0,3.4,1.6,0.4,Iris-setosa\\n5.2,3.5,1.5,0.2,Iris-setosa\\n5.2,3.4,1.4,0.2,Iris-setosa\\n4.7,3.2,1.6,0.2,Iris-setosa\\n4.8,3.1,1.6,0.2,Iris-setosa\\n5.4,3.4,1.5,0.4,Iris-setosa\\n5.2,4.1,1.5,0.1,Iris-setosa\\n5.5,4.2,1.4,0.2,Iris-setosa\\n4.9,3.1,1.5,0.1,Iris-setosa\\n5.0,3.2,1.2,0.2,Iris-setosa\\n5.5,3.5,1.3,0.2,Iris-setosa\\n4.9,3.1,1.5,0.1,Iris-setosa\\n4.4,3.0,1.3,0.2,Iris-setosa\\n5.1,3.4,1.5,0.2,Iris-setosa\\n5.0,3.5,1.3,0.3,Iris-setosa\\n4.5,2.3,1.3,0.3,Iris-setosa\\n4.4,3.2,1.3,0.2,Iris-setosa\\n5.0,3.5,1.6,0.6,Iris-setosa\\n5.1,3.8,1.9,0.4,Iris-setosa\\n4.8,3.0,1.4,0.3,Iris-setosa\\n5.1,3.8,1.6,0.2,Iris-setosa\\n4.6,3.2,1.4,0.2,Iris-setosa\\n5.3,3.7,1.5,0.2,Iris-setosa\\n5.0,3.3,1.4,0.2,Iris-setosa\\n7.0,3.2,4.7,1.4,Iris-versicolor\\n6.4,3.2,4.5,1.5,Iris-versicolor\\n6.9,3.1,4.9,1.5,Iris-versicolor\\n5.5,2.3,4.0,1.3,Iris-versicolor\\n6.5,2.8,4.6,1.5,Iris-versicolor\\n5.7,2.8,4.5,1.3,Iris-versicolor\\n6.3,3.3,4.7,1.6,Iris-versicolor\\n4.9,2.4,3.3,1.0,Iris-versicolor\\n6.6,2.9,4.6,1.3,Iris-versicolor\\n5.2,2.7,3.9,1.4,Iris-versicolor\\n5.0,2.0,3.5,1.0,Iris-versicolor\\n5.9,3.0,4.2,1.5,Iris-versicolor\\n6.0,2.2,4.0,1.0,Iris-versicolor\\n6.1,2.9,4.7,1.4,Iris-versicolor\\n5.6,2.9,3.6,1.3,Iris-versicolor\\n6.7,3.1,4.4,1.4,Iris-versicolor\\n5.6,3.0,4.5,1.5,Iris-versicolor\\n5.8,2.7,4.1,1.0,Iris-versicolor\\n6.2,2.2,4.5,1.5,Iris-versicolor\\n5.6,2.5,3.9,1.1,Iris-versicolor\\n5.9,3.2,4.8,1.8,Iris-versicolor\\n6.1,2.8,4.0,1.3,Iris-versicolor\\n6.3,2.5,4.9,1.5,Iris-versicolor\\n6.1,2.8,4.7,1.2,Iris-versicolor\\n6.4,2.9,4.3,1.3,Iris-versicolor\\n6.6,3.0,4.4,1.4,Iris-versicolor\\n6.8,2.8,4.8,1.4,Iris-versicolor\\n6.7,3.0,5.0,1.7,Iris-versicolor\\n6.0,2.9,4.5,1.5,Iris-versicolor\\n5.7,2.6,3.5,1.0,Iris-versicolor\\n5.5,2.4,3.8,1.1,Iris-versicolor\\n5.5,2.4,3.7,1.0,Iris-versicolor\\n5.8,2.7,3.9,1.2,Iris-versicolor\\n6.0,2.7,5.1,1.6,Iris-versicolor\\n5.4,3.0,4.5,1.5,Iris-versicolor\\n6.0,3.4,4.5,1.6,Iris-versicolor\\n6.7,3.1,4.7,1.5,Iris-versicolor\\n6.3,2.3,4.4,1.3,Iris-versicolor\\n5.6,3.0,4.1,1.3,Iris-versicolor\\n5.5,2.5,4.0,1.3,Iris-versicolor\\n5.5,2.6,4.4,1.2,Iris-versicolor\\n6.1,3.0,4.6,1.4,Iris-versicolor\\n5.8,2.6,4.0,1.2,Iris-versicolor\\n5.0,2.3,3.3,1.0,Iris-versicolor\\n5.6,2.7,4.2,1.3,Iris-versicolor\\n5.7,3.0,4.2,1.2,Iris-versicolor\\n5.7,2.9,4.2,1.3,Iris-versicolor\\n6.2,2.9,4.3,1.3,Iris-versicolor\\n5.1,2.5,3.0,1.1,Iris-versicolor\\n5.7,2.8,4.1,1.3,Iris-versicolor\\n6.3,3.3,6.0,2.5,Iris-virginica\\n5.8,2.7,5.1,1.9,Iris-virginica\\n7.1,3.0,5.9,2.1,Iris-virginica\\n6.3,2.9,5.6,1.8,Iris-virginica\\n6.5,3.0,5.8,2.2,Iris-virginica\\n7.6,3.0,6.6,2.1,Iris-virginica\\n4.9,2.5,4.5,1.7,Iris-virginica\\n7.3,2.9,6.3,1.8,Iris-virginica\\n6.7,2.5,5.8,1.8,Iris-virginica\\n7.2,3.6,6.1,2.5,Iris-virginica\\n6.5,3.2,5.1,2.0,Iris-virginica\\n6.4,2.7,5.3,1.9,Iris-virginica\\n6.8,3.0,5.5,2.1,Iris-virginica\\n5.7,2.5,5.0,2.0,Iris-virginica\\n5.8,2.8,5.1,2.4,Iris-virginica\\n6.4,3.2,5.3,2.3,Iris-virginica\\n6.5,3.0,5.5,1.8,Iris-virginica\\n7.7,3.8,6.7,2.2,Iris-virginica\\n7.7,2.6,6.9,2.3,Iris-virginica\\n6.0,2.2,5.0,1.5,Iris-virginica\\n6.9,3.2,5.7,2.3,Iris-virginica\\n5.6,2.8,4.9,2.0,Iris-virginica\\n7.7,2.8,6.7,2.0,Iris-virginica\\n6.3,2.7,4.9,1.8,Iris-virginica\\n6.7,3.3,5.7,2.1,Iris-virginica\\n7.2,3.2,6.0,1.8,Iris-virginica\\n6.2,2.8,4.8,1.8,Iris-virginica\\n6.1,3.0,4.9,1.8,Iris-virginica\\n6.4,2.8,5.6,2.1,Iris-virginica\\n7.2,3.0,5.8,1.6,Iris-virginica\\n7.4,2.8,6.1,1.9,Iris-virginica\\n7.9,3.8,6.4,2.0,Iris-virginica\\n6.4,2.8,5.6,2.2,Iris-virginica\\n6.3,2.8,5.1,1.5,Iris-virginica\\n6.1,2.6,5.6,1.4,Iris-virginica\\n7.7,3.0,6.1,2.3,Iris-virginica\\n6.3,3.4,5.6,2.4,Iris-virginica\\n6.4,3.1,5.5,1.8,Iris-virginica\\n6.0,3.0,4.8,1.8,Iris-virginica\\n6.9,3.1,5.4,2.1,Iris-virginica\\n6.7,3.1,5.6,2.4,Iris-virginica\\n6.9,3.1,5.1,2.3,Iris-virginica\\n5.8,2.7,5.1,1.9,Iris-virginica\\n6.8,3.2,5.9,2.3,Iris-virginica\\n6.7,3.3,5.7,2.5,Iris-virginica\\n6.7,3.0,5.2,2.3,Iris-virginica\\n6.3,2.5,5.0,1.9,Iris-virginica\\n6.5,3.0,5.2,2.0,Iris-virginica\\n6.2,3.4,5.4,2.3,Iris-virginica\\n5.9,3.0,5.1,1.8,Iris-virginica\\n\\n'"
      ]
     },
     "execution_count": 114,
     "metadata": {},
     "output_type": "execute_result"
    }
   ],
   "source": [
    "my_file.read()"
   ]
  },
  {
   "cell_type": "code",
   "execution_count": 115,
   "metadata": {
    "collapsed": false
   },
   "outputs": [
    {
     "data": {
      "text/plain": [
       "''"
      ]
     },
     "execution_count": 115,
     "metadata": {},
     "output_type": "execute_result"
    }
   ],
   "source": [
    "my_file.read()"
   ]
  },
  {
   "cell_type": "code",
   "execution_count": 116,
   "metadata": {
    "collapsed": true
   },
   "outputs": [],
   "source": [
    "my_file.seek(0)"
   ]
  },
  {
   "cell_type": "code",
   "execution_count": 117,
   "metadata": {
    "collapsed": false
   },
   "outputs": [
    {
     "data": {
      "text/plain": [
       "'5.1,3.5,1.4,0.2,Iris-setosa\\n4.9,3.0,1.4,0.2,Iris-setosa\\n4.7,3.2,1.3,0.2,Iris-setosa\\n4.6,3.1,1.5,0.2,Iris-setosa\\n5.0,3.6,1.4,0.2,Iris-setosa\\n5.4,3.9,1.7,0.4,Iris-setosa\\n4.6,3.4,1.4,0.3,Iris-setosa\\n5.0,3.4,1.5,0.2,Iris-setosa\\n4.4,2.9,1.4,0.2,Iris-setosa\\n4.9,3.1,1.5,0.1,Iris-setosa\\n5.4,3.7,1.5,0.2,Iris-setosa\\n4.8,3.4,1.6,0.2,Iris-setosa\\n4.8,3.0,1.4,0.1,Iris-setosa\\n4.3,3.0,1.1,0.1,Iris-setosa\\n5.8,4.0,1.2,0.2,Iris-setosa\\n5.7,4.4,1.5,0.4,Iris-setosa\\n5.4,3.9,1.3,0.4,Iris-setosa\\n5.1,3.5,1.4,0.3,Iris-setosa\\n5.7,3.8,1.7,0.3,Iris-setosa\\n5.1,3.8,1.5,0.3,Iris-setosa\\n5.4,3.4,1.7,0.2,Iris-setosa\\n5.1,3.7,1.5,0.4,Iris-setosa\\n4.6,3.6,1.0,0.2,Iris-setosa\\n5.1,3.3,1.7,0.5,Iris-setosa\\n4.8,3.4,1.9,0.2,Iris-setosa\\n5.0,3.0,1.6,0.2,Iris-setosa\\n5.0,3.4,1.6,0.4,Iris-setosa\\n5.2,3.5,1.5,0.2,Iris-setosa\\n5.2,3.4,1.4,0.2,Iris-setosa\\n4.7,3.2,1.6,0.2,Iris-setosa\\n4.8,3.1,1.6,0.2,Iris-setosa\\n5.4,3.4,1.5,0.4,Iris-setosa\\n5.2,4.1,1.5,0.1,Iris-setosa\\n5.5,4.2,1.4,0.2,Iris-setosa\\n4.9,3.1,1.5,0.1,Iris-setosa\\n5.0,3.2,1.2,0.2,Iris-setosa\\n5.5,3.5,1.3,0.2,Iris-setosa\\n4.9,3.1,1.5,0.1,Iris-setosa\\n4.4,3.0,1.3,0.2,Iris-setosa\\n5.1,3.4,1.5,0.2,Iris-setosa\\n5.0,3.5,1.3,0.3,Iris-setosa\\n4.5,2.3,1.3,0.3,Iris-setosa\\n4.4,3.2,1.3,0.2,Iris-setosa\\n5.0,3.5,1.6,0.6,Iris-setosa\\n5.1,3.8,1.9,0.4,Iris-setosa\\n4.8,3.0,1.4,0.3,Iris-setosa\\n5.1,3.8,1.6,0.2,Iris-setosa\\n4.6,3.2,1.4,0.2,Iris-setosa\\n5.3,3.7,1.5,0.2,Iris-setosa\\n5.0,3.3,1.4,0.2,Iris-setosa\\n7.0,3.2,4.7,1.4,Iris-versicolor\\n6.4,3.2,4.5,1.5,Iris-versicolor\\n6.9,3.1,4.9,1.5,Iris-versicolor\\n5.5,2.3,4.0,1.3,Iris-versicolor\\n6.5,2.8,4.6,1.5,Iris-versicolor\\n5.7,2.8,4.5,1.3,Iris-versicolor\\n6.3,3.3,4.7,1.6,Iris-versicolor\\n4.9,2.4,3.3,1.0,Iris-versicolor\\n6.6,2.9,4.6,1.3,Iris-versicolor\\n5.2,2.7,3.9,1.4,Iris-versicolor\\n5.0,2.0,3.5,1.0,Iris-versicolor\\n5.9,3.0,4.2,1.5,Iris-versicolor\\n6.0,2.2,4.0,1.0,Iris-versicolor\\n6.1,2.9,4.7,1.4,Iris-versicolor\\n5.6,2.9,3.6,1.3,Iris-versicolor\\n6.7,3.1,4.4,1.4,Iris-versicolor\\n5.6,3.0,4.5,1.5,Iris-versicolor\\n5.8,2.7,4.1,1.0,Iris-versicolor\\n6.2,2.2,4.5,1.5,Iris-versicolor\\n5.6,2.5,3.9,1.1,Iris-versicolor\\n5.9,3.2,4.8,1.8,Iris-versicolor\\n6.1,2.8,4.0,1.3,Iris-versicolor\\n6.3,2.5,4.9,1.5,Iris-versicolor\\n6.1,2.8,4.7,1.2,Iris-versicolor\\n6.4,2.9,4.3,1.3,Iris-versicolor\\n6.6,3.0,4.4,1.4,Iris-versicolor\\n6.8,2.8,4.8,1.4,Iris-versicolor\\n6.7,3.0,5.0,1.7,Iris-versicolor\\n6.0,2.9,4.5,1.5,Iris-versicolor\\n5.7,2.6,3.5,1.0,Iris-versicolor\\n5.5,2.4,3.8,1.1,Iris-versicolor\\n5.5,2.4,3.7,1.0,Iris-versicolor\\n5.8,2.7,3.9,1.2,Iris-versicolor\\n6.0,2.7,5.1,1.6,Iris-versicolor\\n5.4,3.0,4.5,1.5,Iris-versicolor\\n6.0,3.4,4.5,1.6,Iris-versicolor\\n6.7,3.1,4.7,1.5,Iris-versicolor\\n6.3,2.3,4.4,1.3,Iris-versicolor\\n5.6,3.0,4.1,1.3,Iris-versicolor\\n5.5,2.5,4.0,1.3,Iris-versicolor\\n5.5,2.6,4.4,1.2,Iris-versicolor\\n6.1,3.0,4.6,1.4,Iris-versicolor\\n5.8,2.6,4.0,1.2,Iris-versicolor\\n5.0,2.3,3.3,1.0,Iris-versicolor\\n5.6,2.7,4.2,1.3,Iris-versicolor\\n5.7,3.0,4.2,1.2,Iris-versicolor\\n5.7,2.9,4.2,1.3,Iris-versicolor\\n6.2,2.9,4.3,1.3,Iris-versicolor\\n5.1,2.5,3.0,1.1,Iris-versicolor\\n5.7,2.8,4.1,1.3,Iris-versicolor\\n6.3,3.3,6.0,2.5,Iris-virginica\\n5.8,2.7,5.1,1.9,Iris-virginica\\n7.1,3.0,5.9,2.1,Iris-virginica\\n6.3,2.9,5.6,1.8,Iris-virginica\\n6.5,3.0,5.8,2.2,Iris-virginica\\n7.6,3.0,6.6,2.1,Iris-virginica\\n4.9,2.5,4.5,1.7,Iris-virginica\\n7.3,2.9,6.3,1.8,Iris-virginica\\n6.7,2.5,5.8,1.8,Iris-virginica\\n7.2,3.6,6.1,2.5,Iris-virginica\\n6.5,3.2,5.1,2.0,Iris-virginica\\n6.4,2.7,5.3,1.9,Iris-virginica\\n6.8,3.0,5.5,2.1,Iris-virginica\\n5.7,2.5,5.0,2.0,Iris-virginica\\n5.8,2.8,5.1,2.4,Iris-virginica\\n6.4,3.2,5.3,2.3,Iris-virginica\\n6.5,3.0,5.5,1.8,Iris-virginica\\n7.7,3.8,6.7,2.2,Iris-virginica\\n7.7,2.6,6.9,2.3,Iris-virginica\\n6.0,2.2,5.0,1.5,Iris-virginica\\n6.9,3.2,5.7,2.3,Iris-virginica\\n5.6,2.8,4.9,2.0,Iris-virginica\\n7.7,2.8,6.7,2.0,Iris-virginica\\n6.3,2.7,4.9,1.8,Iris-virginica\\n6.7,3.3,5.7,2.1,Iris-virginica\\n7.2,3.2,6.0,1.8,Iris-virginica\\n6.2,2.8,4.8,1.8,Iris-virginica\\n6.1,3.0,4.9,1.8,Iris-virginica\\n6.4,2.8,5.6,2.1,Iris-virginica\\n7.2,3.0,5.8,1.6,Iris-virginica\\n7.4,2.8,6.1,1.9,Iris-virginica\\n7.9,3.8,6.4,2.0,Iris-virginica\\n6.4,2.8,5.6,2.2,Iris-virginica\\n6.3,2.8,5.1,1.5,Iris-virginica\\n6.1,2.6,5.6,1.4,Iris-virginica\\n7.7,3.0,6.1,2.3,Iris-virginica\\n6.3,3.4,5.6,2.4,Iris-virginica\\n6.4,3.1,5.5,1.8,Iris-virginica\\n6.0,3.0,4.8,1.8,Iris-virginica\\n6.9,3.1,5.4,2.1,Iris-virginica\\n6.7,3.1,5.6,2.4,Iris-virginica\\n6.9,3.1,5.1,2.3,Iris-virginica\\n5.8,2.7,5.1,1.9,Iris-virginica\\n6.8,3.2,5.9,2.3,Iris-virginica\\n6.7,3.3,5.7,2.5,Iris-virginica\\n6.7,3.0,5.2,2.3,Iris-virginica\\n6.3,2.5,5.0,1.9,Iris-virginica\\n6.5,3.0,5.2,2.0,Iris-virginica\\n6.2,3.4,5.4,2.3,Iris-virginica\\n5.9,3.0,5.1,1.8,Iris-virginica\\n\\n'"
      ]
     },
     "execution_count": 117,
     "metadata": {},
     "output_type": "execute_result"
    }
   ],
   "source": [
    "my_file.read()"
   ]
  }
 ],
 "metadata": {
  "kernelspec": {
   "display_name": "Python 2",
   "language": "python",
   "name": "python2"
  },
  "language_info": {
   "codemirror_mode": {
    "name": "ipython",
    "version": 2
   },
   "file_extension": ".py",
   "mimetype": "text/x-python",
   "name": "python",
   "nbconvert_exporter": "python",
   "pygments_lexer": "ipython2",
   "version": "2.7.8"
  }
 },
 "nbformat": 4,
 "nbformat_minor": 0
}
