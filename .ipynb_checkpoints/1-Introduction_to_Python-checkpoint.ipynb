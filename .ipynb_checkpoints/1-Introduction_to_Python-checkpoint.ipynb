{
 "cells": [
  {
   "cell_type": "markdown",
   "metadata": {
    "slideshow": {
     "slide_type": "slide"
    }
   },
   "source": [
    "#Data Analysis with Python\n",
    "##Hugo Serrano\n",
    "###hbarbosa@biocomplexlab.org\n",
    "![BioComplex Lab](img/biocomplex.png)"
   ]
  },
  {
   "cell_type": "markdown",
   "metadata": {
    "slideshow": {
     "slide_type": "slide"
    }
   },
   "source": [
    "#Scientific Python\n",
    "![img](./img/sciwheel.png)"
   ]
  },
  {
   "cell_type": "markdown",
   "metadata": {
    "collapsed": true,
    "slideshow": {
     "slide_type": "slide"
    }
   },
   "source": [
    "###Roadmap\n",
    " 1. Introduction\n",
    "  1. Python\n",
    "  2. IPython\n",
    " 2. Data analysis and visualization\n",
    "  1. Numpy\n",
    "  2. Matplotlib\n",
    "  3. Pandas\n",
    " 3. Network analysis\n",
    "  1. igraph\n",
    "  2. powerlaw\n",
    "  3. graph_tool\n",
    " 4. Geographic data analysis\n",
    "  1. geopy\n",
    "  2. shapely\n",
    "  3. geoplotlib"
   ]
  },
  {
   "cell_type": "markdown",
   "metadata": {
    "slideshow": {
     "slide_type": "slide"
    }
   },
   "source": [
    "#Basic Python syntax\n",
    "#### First, let us fire the Python interpreter\n",
    "#### Windows users (assuming you already have the Python interpreter installed on your machine)\n",
    "##### Open the command prompt and type python ```<Enter>```\n",
    "```\n",
    "C:\\> python\n",
    "```\n",
    "```\n",
    "Python 2.7.6 (default, Sep  9 2014, 15:04:36) \n",
    "[GCC 4.2.1 Compatible Apple LLVM 6.0 (clang-600.0.39)] on darwin\n",
    "Type \"help\", \"copyright\", \"credits\" or \"license\" for more information.\n",
    ">>> \n",
    "``` \n",
    "#### *NIX Users\n",
    "##### Open the terminal and fire the python interpreter\n",
    "```\n",
    "$ python\n",
    "```\n",
    "```\n",
    "Python 2.7.6 (default, Sep  9 2014, 15:04:36) \n",
    "[GCC 4.2.1 Compatible Apple LLVM 6.0 (clang-600.0.39)] on darwin\n",
    "Type \"help\", \"copyright\", \"credits\" or \"license\" for more information.\n",
    ">>> \n",
    "```"
   ]
  },
  {
   "cell_type": "markdown",
   "metadata": {
    "collapsed": true,
    "slideshow": {
     "slide_type": "slide"
    }
   },
   "source": [
    "###Python interpreter as a simple calculator\n",
    "\n",
    "```python\n",
    ">>> 3 + 5\n",
    "8\n",
    ">>> 5 * 10\n",
    "50\n",
    ">>> 5 / 2 # Integers division\n",
    "2 \n",
    "```\n"
   ]
  },
  {
   "cell_type": "markdown",
   "metadata": {
    "slideshow": {
     "slide_type": "fragment"
    }
   },
   "source": [
    "### Python infers the operation to be performed from the operands types\n",
    "```python\n",
    ">>> 5/2.0 #If one of the operands is a float, you have the regular division operation \n",
    "2.5\n",
    ">>> 5 * (2+3j)\n",
    "(10+15j)\n",
    "\n",
    ">>> 2**4\n",
    "16\n",
    "\n",
    ">>> _**2 # This special variable _ stores the output of the last operation\n",
    "256\n",
    "\n",
    ">>> _**2\n",
    "65536\n",
    "```\n"
   ]
  },
  {
   "cell_type": "markdown",
   "metadata": {
    "slideshow": {
     "slide_type": "slide"
    }
   },
   "source": [
    "##Basic data types\n",
    "```python\n",
    ">>> a = 4\n",
    ">>> type(a)\n",
    "<type 'int'>\n",
    "```"
   ]
  },
  {
   "cell_type": "markdown",
   "metadata": {
    "slideshow": {
     "slide_type": "-"
    }
   },
   "source": [
    "```python\n",
    ">>> a = 2.5\n",
    ">>> type(a)\n",
    "<type 'float'>\n",
    "```"
   ]
  },
  {
   "cell_type": "markdown",
   "metadata": {
    "slideshow": {
     "slide_type": "-"
    }
   },
   "source": [
    "```python\n",
    ">>> a = 'Hello'\n",
    ">>> type(a)\n",
    "<type 'str'>\n",
    "```"
   ]
  },
  {
   "cell_type": "markdown",
   "metadata": {
    "slideshow": {
     "slide_type": "slide"
    }
   },
   "source": [
    "## Advanced  data types\n",
    "### Lists\n",
    "```python\n",
    ">>> my_list = [1,2,3,4]\n",
    ">>> my_other_list = [8,7,2.4,3]\n",
    ">>> my_list + my_other_list # The addition operation over lists concatenates them\n",
    "[1, 2, 3, 4, 8, 7, 2.4, 3]\n",
    "```"
   ]
  },
  {
   "cell_type": "markdown",
   "metadata": {
    "slideshow": {
     "slide_type": "fragment"
    }
   },
   "source": [
    "```python\n",
    ">>> type(my_list)\n",
    "<type 'list'>\n",
    "```"
   ]
  },
  {
   "cell_type": "markdown",
   "metadata": {
    "slideshow": {
     "slide_type": "fragment"
    }
   },
   "source": [
    "```python\n",
    ">>> my_list[0] = 100 # You can re-asign a new value to an element of a list from its index\n",
    ">>> print my_list\n",
    "[100, 2, 3, 4]\n",
    "```"
   ]
  },
  {
   "cell_type": "markdown",
   "metadata": {
    "slideshow": {
     "slide_type": "fragment"
    }
   },
   "source": [
    "```python\n",
    ">>> my_list[-1] = 100**2  # You can also access elements using a negative index\n",
    ">>> print my_list\n",
    "[100, 2, 3, 10000]\n",
    "```"
   ]
  },
  {
   "cell_type": "markdown",
   "metadata": {
    "slideshow": {
     "slide_type": "slide"
    }
   },
   "source": [
    "\n",
    "### Slicing"
   ]
  },
  {
   "cell_type": "markdown",
   "metadata": {},
   "source": [
    "```python \n",
    ">>> obs = [2, 5, 3, 1, 3, 1, 5, 7]\n",
    ">>> print obs[:3]\n",
    "[2, 5, 3]\n",
    "```"
   ]
  },
  {
   "cell_type": "markdown",
   "metadata": {},
   "source": [
    "```python\n",
    ">>> print obs[3:]\n",
    "[1, 3, 1, 5, 7]\n",
    "```"
   ]
  },
  {
   "cell_type": "markdown",
   "metadata": {
    "slideshow": {
     "slide_type": "fragment"
    }
   },
   "source": [
    "```python\n",
    ">>> print obs[-3:]\n",
    "[1, 5, 7]\n",
    "\n",
    "```"
   ]
  },
  {
   "cell_type": "markdown",
   "metadata": {
    "slideshow": {
     "slide_type": "subslide"
    }
   },
   "source": [
    "##### (In Python, lists can store any object)\n",
    "```python\n",
    ">>> weird_list = [\"Hello\",2.3, 4, 3 + 2j, [\"this guy here belongs to a sublist\"]]\n",
    ">>> for i in weird_list:\n",
    "...    print type(i)\n",
    "... \n",
    "<type 'str'>\n",
    "<type 'float'>\n",
    "<type 'int'>\n",
    "<type 'complex'>\n",
    "<type 'list'>\n",
    "```"
   ]
  },
  {
   "cell_type": "markdown",
   "metadata": {
    "slideshow": {
     "slide_type": "slide"
    }
   },
   "source": [
    "##Tuples\n",
    "\n",
    "```python\n",
    ">>> my_tuple = (2,3,0,3)\n",
    ">>> len(my_tuple)\n",
    "4\n",
    "```"
   ]
  },
  {
   "cell_type": "markdown",
   "metadata": {
    "slideshow": {
     "slide_type": "fragment"
    }
   },
   "source": [
    "```python\n",
    ">>> my_tuple[0] = 100\n",
    "Traceback (most recent call last):\n",
    "  File \"<stdin>\", line 1, in <module>\n",
    "TypeError: 'tuple' object does not support item assignment\n",
    "```"
   ]
  },
  {
   "cell_type": "markdown",
   "metadata": {
    "slideshow": {
     "slide_type": "slide"
    }
   },
   "source": [
    "## Dictionaries\n",
    "```python\n",
    ">>> user = {\"name\":\"Hugo\",\"email\":\"hbarbosa@biocomplex.org\"}\n",
    ">>> user[\"name\"]\n",
    "'Hugo'\n",
    ">>> user[\"email\"]\n",
    "'hbarbosa@biocomplex.org'\n",
    "```"
   ]
  },
  {
   "cell_type": "markdown",
   "metadata": {
    "slideshow": {
     "slide_type": "fragment"
    }
   },
   "source": [
    "### Dictionary assignment and nested dictionaries\n",
    "```python\n",
    ">>> user[\"affiliation\"] = {\"instition\":\"Florida Tech\",\"dept\":\"Computer Sciences\"}\n",
    ">>> print user[\"affiliation\"][\"dept\"]\n",
    "Computer Sciences\n",
    ">>> print user\n",
    "{'affiliation': {'dept': 'Computer Sciences', 'instition': 'Florida Tech'}, 'name': 'Hugo', 'email': 'hbarbosa@biocomplex.org'}\n",
    "```"
   ]
  },
  {
   "cell_type": "markdown",
   "metadata": {
    "slideshow": {
     "slide_type": "fragment"
    }
   },
   "source": [
    "### Querying the dictionary structure\n",
    "```python\n",
    ">>> user.keys()\n",
    "['affiliation', 'name', 'email']\n",
    ">>> user.values()\n",
    "[{'dept': 'Computer Sciences', 'instition': 'Florida Tech'}, 'Hugo', 'hbarbosa@biocomplex.org']\n",
    ">>> user.items()\n",
    "[('affiliation', {'dept': 'Computer Sciences', 'instition': 'Florida Tech'}), ('name', 'Hugo'), ('email', 'hbarbosa@biocomplex.org')]\n",
    "```\n"
   ]
  },
  {
   "cell_type": "markdown",
   "metadata": {
    "slideshow": {
     "slide_type": "slide"
    }
   },
   "source": [
    "##Strings\n",
    " - Strings in python are very powerful, especially when you need to deal with text data files.  \n",
    " ```python\n",
    ">>> a = \"abc\"\n",
    ">>> a*10 # repeat string `a` 10 times\n",
    "'abcabcabcabcabcabcabcabcabcabc'\n",
    "```"
   ]
  },
  {
   "cell_type": "markdown",
   "metadata": {
    "slideshow": {
     "slide_type": "-"
    }
   },
   "source": [
    "```python\n",
    ">>> c = \"123\"\n",
    ">>> (a*10)+c #repat string `a` 10 times and concatenate with string `c`\n",
    "'abcabcabcabcabcabcabcabcabcabc123'\n",
    "```"
   ]
  },
  {
   "cell_type": "markdown",
   "metadata": {
    "slideshow": {
     "slide_type": "skip"
    }
   },
   "source": [
    "### Filling strings with zeros\n",
    "```python\n",
    ">>> x = 10\n",
    ">>> print str(x).zfill(3)\n",
    "010\n",
    "```"
   ]
  },
  {
   "cell_type": "markdown",
   "metadata": {
    "slideshow": {
     "slide_type": "fragment"
    }
   },
   "source": [
    "\n",
    "```python\n",
    ">>> values = [1,2,3,4,5,6,7,8,9,10,11,12,13,14,15]\n",
    ">>> for v in values:\n",
    "...    print \"output_file_%s.txt\"%(str(v).zfill(3))\n",
    "... \n",
    "output_file_001.txt\n",
    "output_file_002.txt\n",
    "output_file_003.txt\n",
    "output_file_004.txt\n",
    "output_file_005.txt\n",
    "output_file_006.txt\n",
    "output_file_007.txt\n",
    "output_file_008.txt\n",
    "output_file_009.txt\n",
    "output_file_010.txt\n",
    "output_file_011.txt\n",
    "output_file_012.txt\n",
    "output_file_013.txt\n",
    "output_file_014.txt\n",
    "output_file_015.txt\n",
    "```"
   ]
  },
  {
   "cell_type": "markdown",
   "metadata": {
    "slideshow": {
     "slide_type": "fragment"
    }
   },
   "source": [
    "###Wrangling text data \n",
    "\n",
    "```python\n",
    ">>> row = \"2.45,3.46,10.82,100,100,0,0,0\"\n",
    ">>> row\n",
    "'2.45,3.46,10.82,100,100,0,0,0'\n",
    ">>> row.split(\",\")\n",
    "['2.45', '3.46', '10.82', '100', '100', '0', '0', '0']\n",
    "```"
   ]
  },
  {
   "cell_type": "markdown",
   "metadata": {
    "slideshow": {
     "slide_type": "slide"
    }
   },
   "source": [
    "###Loops\n"
   ]
  },
  {
   "cell_type": "code",
   "execution_count": 2,
   "metadata": {
    "collapsed": false,
    "slideshow": {
     "slide_type": "-"
    }
   },
   "outputs": [
    {
     "name": "stdout",
     "output_type": "stream",
     "text": [
      "Los Angeles\n",
      "Chicago\n",
      "Austin\n",
      "Miami\n"
     ]
    }
   ],
   "source": [
    "cities = ['Los Angeles','Chicago','Austin','Miami']\n",
    "populations = [3884,2718,885,417]\n",
    "for city in cities:\n",
    "    print city"
   ]
  },
  {
   "cell_type": "markdown",
   "metadata": {},
   "source": [
    "Notice that in Python, blocks are delimited by indentation. For example:"
   ]
  },
  {
   "cell_type": "code",
   "execution_count": 236,
   "metadata": {
    "collapsed": false
   },
   "outputs": [
    {
     "name": "stdout",
     "output_type": "stream",
     "text": [
      "0 0 0 0 0 \n",
      "----------\n",
      "5 6 7 8 9 \n",
      "----------\n",
      "10 12 14 16 18 \n",
      "----------\n",
      "15 18 21 24 27 \n",
      "----------\n",
      "20 24 28 32 36 \n",
      "----------\n",
      "End\n"
     ]
    }
   ],
   "source": [
    "for i in range(0,5):\n",
    "    for j in range(5,10):\n",
    "        print i*j,\n",
    "    print \"\\n----------\"\n",
    "print \"End\""
   ]
  },
  {
   "cell_type": "code",
   "execution_count": 10,
   "metadata": {
    "collapsed": false,
    "slideshow": {
     "slide_type": "subslide"
    }
   },
   "outputs": [
    {
     "name": "stdout",
     "output_type": "stream",
     "text": [
      "Los Angeles has a population of 3884 (thousands)\n",
      "Chicago has a population of 2718 (thousands)\n",
      "Austin has a population of 885 (thousands)\n",
      "Miami has a population of 417 (thousands)\n"
     ]
    }
   ],
   "source": [
    "for pop,city in zip(populations,cities):\n",
    "    print \"%s has a population of %d (thousands)\"%(city,pop) "
   ]
  },
  {
   "cell_type": "code",
   "execution_count": 11,
   "metadata": {
    "collapsed": false,
    "slideshow": {
     "slide_type": "fragment"
    }
   },
   "outputs": [
    {
     "name": "stdout",
     "output_type": "stream",
     "text": [
      "0 0 0\n",
      "1 1 1\n",
      "2 4 8\n",
      "3 9 27\n",
      "4 16 64\n",
      "5 25 125\n",
      "6 36 216\n",
      "7 49 343\n",
      "8 64 512\n",
      "9 81 729\n"
     ]
    }
   ],
   "source": [
    "for i in range(10):\n",
    "    print i,i**2,i**3"
   ]
  },
  {
   "cell_type": "markdown",
   "metadata": {
    "slideshow": {
     "slide_type": "slide"
    }
   },
   "source": [
    "### Conditional statements"
   ]
  },
  {
   "cell_type": "code",
   "execution_count": 144,
   "metadata": {
    "collapsed": false
   },
   "outputs": [
    {
     "name": "stdout",
     "output_type": "stream",
     "text": [
      "Enter a number between 20 and 30: 28\n",
      "28^2 = 784\n"
     ]
    }
   ],
   "source": [
    "num = int(raw_input(\"Enter a number between 20 and 30: \"))\n",
    "if num  < 20:\n",
    "    print \"Too small. Please, try again!\" \n",
    "elif num >= 20 and num <= 30:\n",
    "    print \"%d^2 = %d\"%(num,num**2)\n",
    "else:\n",
    "    print \"Too large. Please, try again!\""
   ]
  },
  {
   "cell_type": "markdown",
   "metadata": {
    "slideshow": {
     "slide_type": "fragment"
    }
   },
   "source": [
    "###Conditional expression"
   ]
  },
  {
   "cell_type": "code",
   "execution_count": 149,
   "metadata": {
    "collapsed": false
   },
   "outputs": [
    {
     "name": "stdout",
     "output_type": "stream",
     "text": [
      "28^2 = 784\n"
     ]
    }
   ],
   "source": [
    "message = \"%d^2 = %d\"%(num,num**2) if (num >= 20) and (num <= 30) else \"Error\"\n",
    "print message"
   ]
  },
  {
   "cell_type": "markdown",
   "metadata": {
    "slideshow": {
     "slide_type": "slide"
    }
   },
   "source": [
    "###Functions\n"
   ]
  },
  {
   "cell_type": "code",
   "execution_count": 16,
   "metadata": {
    "collapsed": false,
    "slideshow": {
     "slide_type": "fragment"
    }
   },
   "outputs": [
    {
     "name": "stdout",
     "output_type": "stream",
     "text": [
      "30\n"
     ]
    }
   ],
   "source": [
    "def add(a,b):\n",
    "    return a+b\n",
    "print add(10,20)"
   ]
  },
  {
   "cell_type": "code",
   "execution_count": 15,
   "metadata": {
    "collapsed": false,
    "slideshow": {
     "slide_type": "fragment"
    }
   },
   "outputs": [
    {
     "name": "stdout",
     "output_type": "stream",
     "text": [
      "81\n",
      "9\n"
     ]
    }
   ],
   "source": [
    "def power(a,b=2): #default parameter values\n",
    "    return a**b\n",
    "\n",
    "print power(3,4)\n",
    "print power(3)"
   ]
  },
  {
   "cell_type": "code",
   "execution_count": 30,
   "metadata": {
    "collapsed": false,
    "slideshow": {
     "slide_type": "fragment"
    }
   },
   "outputs": [],
   "source": [
    "def client(host='localhost',port=80,username='hugo',cert_file='my_cert.pem'):\n",
    "    return \"Connecting user %s to host %s, port %d with password %s\"%(username,\n",
    "                                                                        host,\n",
    "                                                                        port,\n",
    "                                                                        cert_file)  \n"
   ]
  },
  {
   "cell_type": "code",
   "execution_count": 31,
   "metadata": {
    "collapsed": false,
    "slideshow": {
     "slide_type": "fragment"
    }
   },
   "outputs": [
    {
     "data": {
      "text/plain": [
       "'Connecting user hugo to host localhost, port 80 with password my_cert.pem'"
      ]
     },
     "execution_count": 31,
     "metadata": {},
     "output_type": "execute_result"
    }
   ],
   "source": [
    "client() #using all the default values"
   ]
  },
  {
   "cell_type": "code",
   "execution_count": 32,
   "metadata": {
    "collapsed": false,
    "slideshow": {
     "slide_type": "fragment"
    }
   },
   "outputs": [
    {
     "data": {
      "text/plain": [
       "'Connecting user john to host localhost, port 80 with password ./certs/remote_machine.pem'"
      ]
     },
     "execution_count": 32,
     "metadata": {},
     "output_type": "execute_result"
    }
   ],
   "source": [
    "client(cert_file='./certs/remote_machine.pem',username='john') #using the arguments names"
   ]
  },
  {
   "cell_type": "code",
   "execution_count": 33,
   "metadata": {
    "collapsed": false,
    "slideshow": {
     "slide_type": "fragment"
    }
   },
   "outputs": [
    {
     "data": {
      "text/plain": [
       "'Connecting user hugo to host 163.118.78.22, port 23 with password my_cert.pem'"
      ]
     },
     "execution_count": 33,
     "metadata": {},
     "output_type": "execute_result"
    }
   ],
   "source": [
    "client('163.118.78.22',23) #using the argument order"
   ]
  },
  {
   "cell_type": "markdown",
   "metadata": {
    "slideshow": {
     "slide_type": "slide"
    }
   },
   "source": [
    "##Some functional features\n",
    "####Lambda expressions"
   ]
  },
  {
   "cell_type": "code",
   "execution_count": 40,
   "metadata": {
    "collapsed": true,
    "slideshow": {
     "slide_type": "-"
    }
   },
   "outputs": [],
   "source": [
    "power2 = lambda x: x**2"
   ]
  },
  {
   "cell_type": "code",
   "execution_count": 54,
   "metadata": {
    "collapsed": false,
    "slideshow": {
     "slide_type": "-"
    }
   },
   "outputs": [
    {
     "data": {
      "text/plain": [
       "81"
      ]
     },
     "execution_count": 54,
     "metadata": {},
     "output_type": "execute_result"
    }
   ],
   "source": [
    "power2(9)"
   ]
  },
  {
   "cell_type": "markdown",
   "metadata": {
    "slideshow": {
     "slide_type": "fragment"
    }
   },
   "source": [
    "###Map"
   ]
  },
  {
   "cell_type": "code",
   "execution_count": 56,
   "metadata": {
    "collapsed": false,
    "slideshow": {
     "slide_type": "-"
    }
   },
   "outputs": [
    {
     "data": {
      "text/plain": [
       "[0, 1, 4, 9, 16, 25, 36, 49, 64, 81]"
      ]
     },
     "execution_count": 56,
     "metadata": {},
     "output_type": "execute_result"
    }
   ],
   "source": [
    "map(power2,range(10))"
   ]
  },
  {
   "cell_type": "markdown",
   "metadata": {
    "slideshow": {
     "slide_type": "fragment"
    }
   },
   "source": [
    "### Filter"
   ]
  },
  {
   "cell_type": "code",
   "execution_count": 57,
   "metadata": {
    "collapsed": false,
    "slideshow": {
     "slide_type": "-"
    }
   },
   "outputs": [
    {
     "data": {
      "text/plain": [
       "[0, 2, 4, 6, 8, 10, 12, 14, 16, 18]"
      ]
     },
     "execution_count": 57,
     "metadata": {},
     "output_type": "execute_result"
    }
   ],
   "source": [
    "\n",
    "filter(lambda x: x%2 == 0, range(20))"
   ]
  },
  {
   "cell_type": "markdown",
   "metadata": {
    "slideshow": {
     "slide_type": "subslide"
    }
   },
   "source": [
    "###List comprehension"
   ]
  },
  {
   "cell_type": "code",
   "execution_count": 52,
   "metadata": {
    "collapsed": false,
    "slideshow": {
     "slide_type": "-"
    }
   },
   "outputs": [
    {
     "name": "stdout",
     "output_type": "stream",
     "text": [
      "100 loops, best of 3: 10.1 ms per loop\n"
     ]
    }
   ],
   "source": [
    "[i**2 for i in range(20)]"
   ]
  },
  {
   "cell_type": "code",
   "execution_count": 58,
   "metadata": {
    "collapsed": false
   },
   "outputs": [
    {
     "data": {
      "text/plain": [
       "[0, 2, 4, 6, 8, 10, 12, 14, 16, 18]"
      ]
     },
     "execution_count": 58,
     "metadata": {},
     "output_type": "execute_result"
    }
   ],
   "source": [
    "[i for i in range(20) if i%2 == 0]"
   ]
  },
  {
   "cell_type": "code",
   "execution_count": 150,
   "metadata": {
    "collapsed": false
   },
   "outputs": [
    {
     "data": {
      "text/plain": [
       "[(2, 2),\n",
       " (3, 3),\n",
       " (4, 2),\n",
       " (4, 4),\n",
       " (5, 5),\n",
       " (6, 2),\n",
       " (6, 3),\n",
       " (6, 6),\n",
       " (7, 7),\n",
       " (8, 2),\n",
       " (8, 4),\n",
       " (8, 8),\n",
       " (9, 3),\n",
       " (9, 9)]"
      ]
     },
     "execution_count": 150,
     "metadata": {},
     "output_type": "execute_result"
    }
   ],
   "source": [
    "[(i,j)  for i in range(2,10) for j in range(2,10) if i%j==0]"
   ]
  },
  {
   "cell_type": "markdown",
   "metadata": {
    "slideshow": {
     "slide_type": "slide"
    }
   },
   "source": [
    "### Reading files\n",
    " * Create a directory called `data` in the current directory \n",
    " * Download the data file http://goo.gl/IKmRnz to the `data` directory\n",
    " \n",
    " \n"
   ]
  },
  {
   "cell_type": "code",
   "execution_count": 231,
   "metadata": {
    "collapsed": false
   },
   "outputs": [],
   "source": [
    "raw_data = open(\"./data/iris.txt\",\"r\")\n",
    "rows = [ i.split(',') for i in raw_data]\n",
    "rows[:3]\n",
    "raw_data.seek(0)"
   ]
  },
  {
   "cell_type": "code",
   "execution_count": 217,
   "metadata": {
    "collapsed": false,
    "scrolled": true
   },
   "outputs": [
    {
     "data": {
      "text/plain": [
       "[[5.1, 3.5, 1.4, 0.2, 'Iris-setosa\\n'],\n",
       " [4.9, 3.0, 1.4, 0.2, 'Iris-setosa\\n'],\n",
       " [4.7, 3.2, 1.3, 0.2, 'Iris-setosa\\n'],\n",
       " [4.6, 3.1, 1.5, 0.2, 'Iris-setosa\\n']]"
      ]
     },
     "execution_count": 217,
     "metadata": {},
     "output_type": "execute_result"
    }
   ],
   "source": [
    "data = [[float(i) if \".\" in i else i for i in row] for row in rows]\n",
    "data[:4]"
   ]
  },
  {
   "cell_type": "markdown",
   "metadata": {
    "slideshow": {
     "slide_type": "subslide"
    }
   },
   "source": [
    "### One-liner"
   ]
  },
  {
   "cell_type": "code",
   "execution_count": 232,
   "metadata": {
    "collapsed": false,
    "slideshow": {
     "slide_type": "-"
    }
   },
   "outputs": [],
   "source": [
    "data = [[float(i) if \".\" in i else i.strip() for i in row.split(\",\")] for row in raw_data]"
   ]
  },
  {
   "cell_type": "markdown",
   "metadata": {},
   "source": [
    "![doge](./img/doge.png)"
   ]
  },
  {
   "cell_type": "markdown",
   "metadata": {
    "slideshow": {
     "slide_type": "slide"
    }
   },
   "source": [
    "## Practice\n",
    " #### 1 - Write a ``read_csv`` function that receives a filename and a delimiter and return a 2D list with the data using:\n",
    "    1.1 For loops\n",
    "    1.2 List comprehesion\n",
    "```python\n",
    "def read_csv(filename,delimiter=','):\n",
    "    ...\n",
    "    return data\n",
    "```\n"
   ]
  }
 ],
 "metadata": {
  "celltoolbar": "Slideshow",
  "kernelspec": {
   "display_name": "Python 2",
   "language": "python",
   "name": "python2"
  },
  "language_info": {
   "codemirror_mode": {
    "name": "ipython",
    "version": 2
   },
   "file_extension": ".py",
   "mimetype": "text/x-python",
   "name": "python",
   "nbconvert_exporter": "python",
   "pygments_lexer": "ipython2",
   "version": "2.7.8"
  }
 },
 "nbformat": 4,
 "nbformat_minor": 0
}
