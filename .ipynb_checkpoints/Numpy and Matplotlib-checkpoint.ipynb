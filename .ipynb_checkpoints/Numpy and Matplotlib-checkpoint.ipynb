{
 "cells": [
  {
   "cell_type": "markdown",
   "metadata": {
    "slideshow": {
     "slide_type": "slide"
    }
   },
   "source": [
    "#Numpy\n",
    " * Numpy is the most important scientifc library in Python.\n",
    " * It's the core of the scientific stack\n",
    "![img](./img/sciwheel.png)"
   ]
  },
  {
   "cell_type": "markdown",
   "metadata": {},
   "source": [
    "First, we need to import some basic modules.\n",
    "\n",
    "The scientific python community has adopted some importing conventions"
   ]
  },
  {
   "cell_type": "code",
   "execution_count": 1,
   "metadata": {
    "collapsed": true
   },
   "outputs": [],
   "source": [
    "import numpy as np"
   ]
  },
  {
   "cell_type": "markdown",
   "metadata": {
    "slideshow": {
     "slide_type": "slide"
    }
   },
   "source": [
    "###Array creation"
   ]
  },
  {
   "cell_type": "code",
   "execution_count": 2,
   "metadata": {
    "collapsed": false
   },
   "outputs": [
    {
     "name": "stdout",
     "output_type": "stream",
     "text": [
      "[1 2 3]\n",
      "int64\n"
     ]
    }
   ],
   "source": [
    "x1 = np.array([1,2,3])\n",
    "print x1\n",
    "print x1.dtype"
   ]
  },
  {
   "cell_type": "code",
   "execution_count": 3,
   "metadata": {
    "collapsed": false
   },
   "outputs": [
    {
     "name": "stdout",
     "output_type": "stream",
     "text": [
      "[ 1.  2.  3.]\n",
      "float64\n"
     ]
    }
   ],
   "source": [
    "x2 = np.array([1,2,3.0])\n",
    "print x2\n",
    "print x2.dtype"
   ]
  },
  {
   "cell_type": "code",
   "execution_count": 4,
   "metadata": {
    "collapsed": false
   },
   "outputs": [
    {
     "name": "stdout",
     "output_type": "stream",
     "text": [
      "[1 2 3]\n"
     ]
    }
   ],
   "source": [
    "x3 = np.array([1,2,3],dtype='int8')\n",
    "print x3"
   ]
  },
  {
   "cell_type": "markdown",
   "metadata": {
    "slideshow": {
     "slide_type": "slide"
    }
   },
   "source": [
    "###We can also create multidimensional arrays"
   ]
  },
  {
   "cell_type": "code",
   "execution_count": 5,
   "metadata": {
    "collapsed": false
   },
   "outputs": [
    {
     "name": "stdout",
     "output_type": "stream",
     "text": [
      "[[ 1.  0.  0.]\n",
      " [ 0.  1.  0.]\n",
      " [ 0.  0.  1.]]\n"
     ]
    }
   ],
   "source": [
    "a = np.array([[1,0,0],[0,1,0],[0,0,1]],dtype='float')\n",
    "print a"
   ]
  },
  {
   "cell_type": "code",
   "execution_count": 6,
   "metadata": {
    "collapsed": false
   },
   "outputs": [
    {
     "name": "stdout",
     "output_type": "stream",
     "text": [
      "[[ 1.  0.  0.]\n",
      " [ 0.  1.  0.]\n",
      " [ 0.  0.  1.]]\n"
     ]
    }
   ],
   "source": [
    "b = np.identity(3)\n",
    "print b"
   ]
  },
  {
   "cell_type": "code",
   "execution_count": 7,
   "metadata": {
    "collapsed": true
   },
   "outputs": [],
   "source": [
    "x = np.linspace(-3*np.pi,3*np.pi,100) "
   ]
  },
  {
   "cell_type": "code",
   "execution_count": 8,
   "metadata": {
    "collapsed": false
   },
   "outputs": [
    {
     "data": {
      "text/plain": [
       "array([-9.42477796, -9.23437841, -9.04397885, -8.8535793 , -8.66317974,\n",
       "       -8.47278019, -8.28238063, -8.09198108, -7.90158152, -7.71118197,\n",
       "       -7.52078241, -7.33038286, -7.1399833 , -6.94958375, -6.75918419,\n",
       "       -6.56878464, -6.37838508, -6.18798553, -5.99758598, -5.80718642,\n",
       "       -5.61678687, -5.42638731, -5.23598776, -5.0455882 , -4.85518865,\n",
       "       -4.66478909, -4.47438954, -4.28398998, -4.09359043, -3.90319087,\n",
       "       -3.71279132, -3.52239176, -3.33199221, -3.14159265, -2.9511931 ,\n",
       "       -2.76079354, -2.57039399, -2.37999443, -2.18959488, -1.99919533,\n",
       "       -1.80879577, -1.61839622, -1.42799666, -1.23759711, -1.04719755,\n",
       "       -0.856798  , -0.66639844, -0.47599889, -0.28559933, -0.09519978,\n",
       "        0.09519978,  0.28559933,  0.47599889,  0.66639844,  0.856798  ,\n",
       "        1.04719755,  1.23759711,  1.42799666,  1.61839622,  1.80879577,\n",
       "        1.99919533,  2.18959488,  2.37999443,  2.57039399,  2.76079354,\n",
       "        2.9511931 ,  3.14159265,  3.33199221,  3.52239176,  3.71279132,\n",
       "        3.90319087,  4.09359043,  4.28398998,  4.47438954,  4.66478909,\n",
       "        4.85518865,  5.0455882 ,  5.23598776,  5.42638731,  5.61678687,\n",
       "        5.80718642,  5.99758598,  6.18798553,  6.37838508,  6.56878464,\n",
       "        6.75918419,  6.94958375,  7.1399833 ,  7.33038286,  7.52078241,\n",
       "        7.71118197,  7.90158152,  8.09198108,  8.28238063,  8.47278019,\n",
       "        8.66317974,  8.8535793 ,  9.04397885,  9.23437841,  9.42477796])"
      ]
     },
     "execution_count": 8,
     "metadata": {},
     "output_type": "execute_result"
    }
   ],
   "source": [
    "x"
   ]
  },
  {
   "cell_type": "code",
   "execution_count": 9,
   "metadata": {
    "collapsed": true
   },
   "outputs": [],
   "source": [
    "y1 = np.sin(x)\n",
    "y2 = np.cos(x)\n",
    "y3 = np.tan(x)"
   ]
  },
  {
   "cell_type": "code",
   "execution_count": 10,
   "metadata": {
    "collapsed": false
   },
   "outputs": [
    {
     "data": {
      "text/plain": [
       "array([ -3.67394040e-16,  -1.89251244e-01,  -3.71662456e-01,\n",
       "        -5.40640817e-01,  -6.90079011e-01,  -8.14575952e-01,\n",
       "        -9.09631995e-01,  -9.71811568e-01,  -9.98867339e-01,\n",
       "        -9.89821442e-01,  -9.45000819e-01,  -8.66025404e-01,\n",
       "        -7.55749574e-01,  -6.18158986e-01,  -4.58226522e-01,\n",
       "        -2.81732557e-01,  -9.50560433e-02,   9.50560433e-02,\n",
       "         2.81732557e-01,   4.58226522e-01,   6.18158986e-01,\n",
       "         7.55749574e-01,   8.66025404e-01,   9.45000819e-01,\n",
       "         9.89821442e-01,   9.98867339e-01,   9.71811568e-01,\n",
       "         9.09631995e-01,   8.14575952e-01,   6.90079011e-01,\n",
       "         5.40640817e-01,   3.71662456e-01,   1.89251244e-01,\n",
       "        -1.22464680e-16,  -1.89251244e-01,  -3.71662456e-01,\n",
       "        -5.40640817e-01,  -6.90079011e-01,  -8.14575952e-01,\n",
       "        -9.09631995e-01,  -9.71811568e-01,  -9.98867339e-01,\n",
       "        -9.89821442e-01,  -9.45000819e-01,  -8.66025404e-01,\n",
       "        -7.55749574e-01,  -6.18158986e-01,  -4.58226522e-01,\n",
       "        -2.81732557e-01,  -9.50560433e-02,   9.50560433e-02,\n",
       "         2.81732557e-01,   4.58226522e-01,   6.18158986e-01,\n",
       "         7.55749574e-01,   8.66025404e-01,   9.45000819e-01,\n",
       "         9.89821442e-01,   9.98867339e-01,   9.71811568e-01,\n",
       "         9.09631995e-01,   8.14575952e-01,   6.90079011e-01,\n",
       "         5.40640817e-01,   3.71662456e-01,   1.89251244e-01,\n",
       "         1.22464680e-16,  -1.89251244e-01,  -3.71662456e-01,\n",
       "        -5.40640817e-01,  -6.90079011e-01,  -8.14575952e-01,\n",
       "        -9.09631995e-01,  -9.71811568e-01,  -9.98867339e-01,\n",
       "        -9.89821442e-01,  -9.45000819e-01,  -8.66025404e-01,\n",
       "        -7.55749574e-01,  -6.18158986e-01,  -4.58226522e-01,\n",
       "        -2.81732557e-01,  -9.50560433e-02,   9.50560433e-02,\n",
       "         2.81732557e-01,   4.58226522e-01,   6.18158986e-01,\n",
       "         7.55749574e-01,   8.66025404e-01,   9.45000819e-01,\n",
       "         9.89821442e-01,   9.98867339e-01,   9.71811568e-01,\n",
       "         9.09631995e-01,   8.14575952e-01,   6.90079011e-01,\n",
       "         5.40640817e-01,   3.71662456e-01,   1.89251244e-01,\n",
       "         3.67394040e-16])"
      ]
     },
     "execution_count": 10,
     "metadata": {},
     "output_type": "execute_result"
    }
   ],
   "source": [
    "y1"
   ]
  },
  {
   "cell_type": "code",
   "execution_count": 13,
   "metadata": {
    "collapsed": false
   },
   "outputs": [
    {
     "data": {
      "text/plain": [
       "[<matplotlib.lines.Line2D at 0x116900790>,\n",
       " <matplotlib.lines.Line2D at 0x116900a10>,\n",
       " <matplotlib.lines.Line2D at 0x116911110>]"
      ]
     },
     "execution_count": 13,
     "metadata": {},
     "output_type": "execute_result"
    }
   ],
   "source": [
    "import matplotlib.pyplot as plt\n",
    "plt.plot(x,y1,x,y2,x,y3)"
   ]
  },
  {
   "cell_type": "code",
   "execution_count": 14,
   "metadata": {
    "collapsed": false
   },
   "outputs": [],
   "source": [
    "plt.show()"
   ]
  },
  {
   "cell_type": "code",
   "execution_count": 15,
   "metadata": {
    "collapsed": true
   },
   "outputs": [],
   "source": [
    "%matplotlib inline"
   ]
  },
  {
   "cell_type": "code",
   "execution_count": 16,
   "metadata": {
    "collapsed": false
   },
   "outputs": [
    {
     "data": {
      "text/plain": [
       "<matplotlib.legend.Legend at 0x112e27bd0>"
      ]
     },
     "execution_count": 16,
     "metadata": {},
     "output_type": "execute_result"
    },
    {
     "data": {
      "image/png": "[encoded data removed]",
      "text/plain": [
       "<matplotlib.figure.Figure at 0x116ac4bd0>"
      ]
     },
     "metadata": {},
     "output_type": "display_data"
    }
   ],
   "source": [
    "plt.plot(x,y1,x,y2,x,y3)\n",
    "plt.legend(['sin(x)','cos(x)','tan(x)'])"
   ]
  },
  {
   "cell_type": "code",
   "execution_count": null,
   "metadata": {
    "collapsed": true
   },
   "outputs": [],
   "source": []
  }
 ],
 "metadata": {
  "celltoolbar": "Slideshow",
  "kernelspec": {
   "display_name": "Python 2",
   "language": "python",
   "name": "python2"
  },
  "language_info": {
   "codemirror_mode": {
    "name": "ipython",
    "version": 2
   },
   "file_extension": ".py",
   "mimetype": "text/x-python",
   "name": "python",
   "nbconvert_exporter": "python",
   "pygments_lexer": "ipython2",
   "version": "2.7.8"
  }
 },
 "nbformat": 4,
 "nbformat_minor": 0
}
