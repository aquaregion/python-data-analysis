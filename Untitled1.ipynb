{
 "cells": [
  {
   "cell_type": "code",
   "execution_count": 1,
   "metadata": {
    "collapsed": false
   },
   "outputs": [
    {
     "name": "stdout",
     "output_type": "stream",
     "text": [
      "Unable to restore variable 'a21_2w_active_users', ignoring (use %store -d to forget!)\n",
      "The error was: <type 'exceptions.KeyError'>\n",
      "Unable to restore variable 'eth', ignoring (use %store -d to forget!)\n",
      "The error was: <type 'exceptions.KeyError'>\n",
      "Unable to restore variable 'fit_jl', ignoring (use %store -d to forget!)\n",
      "The error was: <type 'exceptions.KeyError'>\n",
      "Unable to restore variable 'orders_hits', ignoring (use %store -d to forget!)\n",
      "The error was: <type 'exceptions.KeyError'>\n",
      "Unable to restore variable 'ranks_hits', ignoring (use %store -d to forget!)\n",
      "The error was: <type 'exceptions.KeyError'>\n",
      "Unable to restore variable 'traj_df', ignoring (use %store -d to forget!)\n",
      "The error was: <type 'exceptions.KeyError'>\n"
     ]
    },
    {
     "name": "stderr",
     "output_type": "stream",
     "text": [
      "/Library/Python/2.7/site-packages/pandas/io/excel.py:626: UserWarning: Installed openpyxl is not supported at this time. Use >=1.6.1 and <2.0.0.\n",
      "  .format(openpyxl_compat.start_ver, openpyxl_compat.stop_ver))\n"
     ]
    }
   ],
   "source": [
    "%store -r"
   ]
  },
  {
   "cell_type": "code",
   "execution_count": 2,
   "metadata": {
    "collapsed": false
   },
   "outputs": [
    {
     "data": {
      "text/plain": [
       "10000000000"
      ]
     },
     "execution_count": 2,
     "metadata": {},
     "output_type": "execute_result"
    }
   ],
   "source": [
    "x"
   ]
  },
  {
   "cell_type": "code",
   "execution_count": null,
   "metadata": {
    "collapsed": true
   },
   "outputs": [],
   "source": []
  }
 ],
 "metadata": {
  "kernelspec": {
   "display_name": "Python 2",
   "language": "python",
   "name": "python2"
  },
  "language_info": {
   "codemirror_mode": {
    "name": "ipython",
    "version": 2
   },
   "file_extension": ".py",
   "mimetype": "text/x-python",
   "name": "python",
   "nbconvert_exporter": "python",
   "pygments_lexer": "ipython2",
   "version": "2.7.8"
  }
 },
 "nbformat": 4,
 "nbformat_minor": 0
}
