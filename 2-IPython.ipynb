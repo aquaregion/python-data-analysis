{
 "cells": [
  {
   "cell_type": "markdown",
   "metadata": {
    "slideshow": {
     "slide_type": "slide"
    }
   },
   "source": [
    "![minipic](http://ipython.org/_static/IPy_header.png)\n",
    "IPython provides a rich architecture for interactive computing with:\n",
    "\n",
    " * Powerful interactive shells (terminal and Qt-based).\n",
    " * A browser-based notebook with support for code, rich text, mathematical expressions, inline plots and other rich media.\n",
    " * Support for interactive data visualization and use of GUI toolkits.\n",
    " * Flexible, embeddable interpreters to load into your own projects.\n",
    " * Easy to use, high performance tools for parallel computing.\n"
   ]
  },
  {
   "cell_type": "markdown",
   "metadata": {},
   "source": [
    "### Installing IPython\n",
    "\n",
    "```\n",
    "$ pip install ipython --user\n",
    "```"
   ]
  },
  {
   "cell_type": "markdown",
   "metadata": {
    "slideshow": {
     "slide_type": "slide"
    }
   },
   "source": [
    "## IPython\n",
    "### There are basically three flavors of IPython:\n",
    "  * the terminal-based interactive shell console\n",
    "  * the Qt-based interactive shell console\n",
    "  * the browser-based IPython notebooks\n",
    " "
   ]
  },
  {
   "cell_type": "markdown",
   "metadata": {
    "slideshow": {
     "slide_type": "subslide"
    }
   },
   "source": [
    "<h3 align=\"center\">IPython terminal</h3> \n",
    "<!-- <img src=\"./img/ip_terminal.png\" width=\"600\"> -->\n",
    "<img src=\"https://raw.githubusercontent.com/hserrano/python-data-analysis/master/img/ip_terminal.png\" width=\"600\">"
   ]
  },
  {
   "cell_type": "markdown",
   "metadata": {
    "slideshow": {
     "slide_type": "slide"
    }
   },
   "source": [
    "###IPython qtconsole\n",
    " * It requires the Qt libraries and their respctive python bindings. \n",
    " * It offers in-line plotting features as well as introspection and help as tooltips. \n",
    "\n",
    "\n",
    "<!-- <img src=\"./img/ip_qtconsole.png\" width=\"600\"> -->\n",
    "<img src=\"https://raw.githubusercontent.com/hserrano/python-data-analysis/master/img/ip_qtconsole.png\" width=\"600\">"
   ]
  },
  {
   "cell_type": "markdown",
   "metadata": {
    "slideshow": {
     "slide_type": "subslide"
    }
   },
   "source": [
    "<!-- <img src=\"./img/ip_qtconsole_plot.png\" width=\"600\"> -->\n",
    "<img src=\"https://raw.githubusercontent.com/hserrano/python-data-analysis/master/img/ip_qtconsole_plot.png\" width=\"600\">"
   ]
  },
  {
   "cell_type": "markdown",
   "metadata": {
    "slideshow": {
     "slide_type": "slide"
    }
   },
   "source": [
    "##IPython notebooks\n",
    "The IPython Notebook is an interactive computational environment, in which you can combine code execution, rich text, mathematics, plots and rich media\n",
    "###Some of the main features of the IPython Notebook app include:\n",
    "\n",
    " * Display rich data representations (e.g. HTML / LaTeX / SVG) in the browser as a result of computations.\n",
    " * Compose rich text using Markdown and HTML.\n",
    " * Include mathematical equations, rendered directly in the browser by MathJax.\n",
    " * Import standard Python scripts.\n",
    " * In-browser editing, syntax highlighting, tab completion and autoindentation.\n",
    " * Inline figures rendered by the matplotlib library with publication quality, in a range of formats (SVG / PDF / PNG).\n",
    "\n",
    "<a href=\"http://ipython.org/_static/sloangrant/9_home_fperez_prof_grants_1207-sloan-ipython_proposal_fig_ipython-notebook-specgram.png\"><img src=\"http://ipython.org/_static/sloangrant/9_home_fperez_prof_grants_1207-sloan-ipython_proposal_fig_ipython-notebook-specgram.png\" width=\"500\"></img></a>"
   ]
  },
  {
   "cell_type": "markdown",
   "metadata": {
    "slideshow": {
     "slide_type": "fragment"
    }
   },
   "source": [
    "#### First, let us install it\n",
    "```\n",
    "$ pip install ipython[all] --user\n",
    "```"
   ]
  },
  {
   "cell_type": "markdown",
   "metadata": {
    "slideshow": {
     "slide_type": "fragment"
    }
   },
   "source": [
    "Now, let's run the ipython notebook server\n",
    "```\n",
    "$ ipython notebook\n",
    "```"
   ]
  },
  {
   "cell_type": "markdown",
   "metadata": {
    "slideshow": {
     "slide_type": "slide"
    }
   },
   "source": [
    "## Input/Output cache"
   ]
  },
  {
   "cell_type": "code",
   "execution_count": 1,
   "metadata": {
    "collapsed": false,
    "scrolled": true
   },
   "outputs": [
    {
     "data": {
      "text/plain": [
       "[0, 1, 2, 3, 4]"
      ]
     },
     "execution_count": 1,
     "metadata": {},
     "output_type": "execute_result"
    }
   ],
   "source": [
    "[i for i in range(5)]"
   ]
  },
  {
   "cell_type": "code",
   "execution_count": 3,
   "metadata": {
    "collapsed": false
   },
   "outputs": [
    {
     "name": "stdout",
     "output_type": "stream",
     "text": [
      "[0, 1, 2, 3, 4]\n"
     ]
    }
   ],
   "source": [
    "x = Out[1]\n",
    "print x"
   ]
  },
  {
   "cell_type": "code",
   "execution_count": 4,
   "metadata": {
    "collapsed": false
   },
   "outputs": [
    {
     "name": "stdout",
     "output_type": "stream",
     "text": [
      "[0, 1, 2, 3, 4]\n",
      "\n"
     ]
    }
   ],
   "source": [
    "print _\n",
    "print __"
   ]
  },
  {
   "cell_type": "code",
   "execution_count": 5,
   "metadata": {
    "collapsed": false
   },
   "outputs": [
    {
     "name": "stdout",
     "output_type": "stream",
     "text": [
      "x = Out[1]\n",
      "print x\n"
     ]
    }
   ],
   "source": [
    "print In[3]"
   ]
  },
  {
   "cell_type": "markdown",
   "metadata": {
    "slideshow": {
     "slide_type": "slide"
    }
   },
   "source": [
    "## Introspection and in-line docstrings \n",
    " * Auto-complete\n",
    " * In-line help\n",
    " * Docstrings tooltips\n",
    " \n",
    "###Auto-complete\n",
    " * IPython provides TAB-completion and introspection for objects' attributes and methods.\n",
    " * The TAB-completion also works for the filesystem, suggesting files and directories names."
   ]
  },
  {
   "cell_type": "code",
   "execution_count": 9,
   "metadata": {
    "collapsed": false
   },
   "outputs": [],
   "source": [
    "z = [1,2,3,4]"
   ]
  },
  {
   "cell_type": "markdown",
   "metadata": {},
   "source": [
    "```python\n",
    "z. #press tab\n",
    "z.append   z.count    z.extend   z.index    z.insert   z.pop      z.remove   z.reverse  z.sort     \n",
    "```\n",
    "\n"
   ]
  },
  {
   "cell_type": "markdown",
   "metadata": {
    "slideshow": {
     "slide_type": "subslide"
    }
   },
   "source": [
    "###Tooltips\n",
    "You can press Shift+Tab when calling a method for a tooltip.\n",
    " * press multiple times for more and mode information\n",
    " * Press Shift+Tab 3 times to keep the tooltip while you type"
   ]
  },
  {
   "cell_type": "code",
   "execution_count": null,
   "metadata": {
    "collapsed": false,
    "slideshow": {
     "slide_type": "slide"
    }
   },
   "outputs": [],
   "source": [
    "np.cumsum #press shift + tab"
   ]
  },
  {
   "cell_type": "markdown",
   "metadata": {
    "slideshow": {
     "slide_type": "subslide"
    }
   },
   "source": [
    "###Help\n",
    "In case you need some help for an object or module, you can use the ?.\n",
    "\n",
    "For example:\n",
    "<img src=\"./img/tt4.png\" width=\"600\"> \n",
    "<!-- <img src=\"https://raw.githubusercontent.com/hserrano/python-data-analysis/master/img/tt4.png\" width=\"600\"> -->"
   ]
  },
  {
   "cell_type": "markdown",
   "metadata": {
    "slideshow": {
     "slide_type": "slide"
    }
   },
   "source": [
    "#Markdown\n",
    "IPython notebook cells also support the Markdown syntax for rich text formating. "
   ]
  },
  {
   "cell_type": "markdown",
   "metadata": {
    "slideshow": {
     "slide_type": "fragment"
    }
   },
   "source": [
    "##Basic writing\n",
    "###Headers\n",
    "You can use one or more `#` before your heading text. The number of # you use will determine the size of the heading. \n",
    "```\n",
    "#Top level\n",
    "##Second level\n",
    "###Third level\n",
    "```\n",
    "This code on the top produces the result on the bottom. \n",
    "\n",
    "#Top level\n",
    "## Second level\n",
    "### Third level"
   ]
  },
  {
   "cell_type": "markdown",
   "metadata": {
    "slideshow": {
     "slide_type": "fragment"
    }
   },
   "source": [
    "###Blockquotes\n",
    "You can define blockquotes with a `>`\n",
    "```\n",
    "> This is a blockquote\n",
    "``` \n",
    "produces \n",
    "\n",
    ">  This is a blockquote\n"
   ]
  },
  {
   "cell_type": "markdown",
   "metadata": {
    "slideshow": {
     "slide_type": "fragment"
    }
   },
   "source": [
    "### Styling text\n",
    "```\n",
    "*This text will be italic*\n",
    "**This text will be bold**\n",
    "```\n",
    "*This text will be italic*\n",
    "**This text will be bold**\n"
   ]
  },
  {
   "cell_type": "markdown",
   "metadata": {
    "slideshow": {
     "slide_type": "subslide"
    }
   },
   "source": [
    "##Lists\n",
    "### Unordered list\n",
    "You can make an unordered list by preceding list items with either a `*` or a `-`.\n",
    "\n",
    "```\n",
    "* Item\n",
    "* Item\n",
    "\n",
    "- Item\n",
    "- Item\n",
    "```"
   ]
  },
  {
   "cell_type": "markdown",
   "metadata": {
    "slideshow": {
     "slide_type": "fragment"
    }
   },
   "source": [
    " * Item\n",
    " * Item\n",
    "\n",
    " - Item\n",
    " - Item"
   ]
  },
  {
   "cell_type": "markdown",
   "metadata": {
    "slideshow": {
     "slide_type": "subslide"
    }
   },
   "source": [
    "### Ordered list\n",
    "```\n",
    "1. Item 1\n",
    "  1. A corollary to the above item.\n",
    "  2. Yet another point to consider.\n",
    "2. Item 2\n",
    "  * A corollary that does not need to be ordered.\n",
    "    * This is indented four spaces, because it's two spaces further than the item above.\n",
    "    * You might want to consider making a new list.\n",
    "3. Item 3\n",
    "```\n",
    "produces \n",
    "1. Item 1\n",
    "  1. A corollary to the above item.\n",
    "  2. Yet another point to consider.\n",
    "2. Item 2\n",
    "  * A corollary that does not need to be ordered.\n",
    "    * This is indented four spaces, because it's two spaces further than the item above.\n",
    "    * You might want to consider making a new list.\n",
    "3. Item 3"
   ]
  },
  {
   "cell_type": "markdown",
   "metadata": {
    "slideshow": {
     "slide_type": "subslide"
    }
   },
   "source": [
    "### Source code\n",
    "You can use triple backquotes ` ``` `to delimit a block where you want to output a piece of code.\n",
    "\n",
    "` ``` \n",
    "def fact(x):\n",
    "    if x == 1:\n",
    "        return 1\n",
    "    else:\n",
    "        return x*fact(x-1)\n",
    "``` `"
   ]
  },
  {
   "cell_type": "markdown",
   "metadata": {},
   "source": [
    "```\n",
    "def fact(x):\n",
    "    if x == 1:\n",
    "        return 1\n",
    "    else:\n",
    "        return x*fact(x-1)\n",
    "```\n"
   ]
  },
  {
   "cell_type": "markdown",
   "metadata": {
    "slideshow": {
     "slide_type": "fragment"
    }
   },
   "source": [
    "If you want to highlight the syntax for a particular language, you can do\n",
    "\n",
    "` ```python\n",
    "def fact(x):\n",
    "    if x == 1:\n",
    "        return 1\n",
    "    else:\n",
    "        return x*fact(x-1)\n",
    "``` `\n",
    "\n"
   ]
  },
  {
   "cell_type": "markdown",
   "metadata": {},
   "source": [
    "```python\n",
    "def fact(x):\n",
    "    if x == 1:\n",
    "        return 1\n",
    "    else:\n",
    "        return x*fact(x-1)\n",
    "```"
   ]
  },
  {
   "cell_type": "markdown",
   "metadata": {
    "slideshow": {
     "slide_type": "subslide"
    }
   },
   "source": [
    "The syntax highlight feature works for many different languages."
   ]
  },
  {
   "cell_type": "markdown",
   "metadata": {},
   "source": [
    "```java\n",
    "import java.util.*;\n",
    " \n",
    "public class Sum2 {\n",
    "   public static void main(String[] args) {\n",
    "      Scanner in = new Scanner(System.in); // Standard input\n",
    "      System.out.println(in.nextInt() + in.nextInt()); // Standard output\n",
    "   }\n",
    "}\n",
    "```"
   ]
  },
  {
   "cell_type": "markdown",
   "metadata": {},
   "source": [
    "```c++\n",
    "// Standard input-output streams\n",
    "#include <iostream>\n",
    "using namespace std;\n",
    "void main()\n",
    "{\n",
    "   int a, b;\n",
    "   cin >> a >> b;\n",
    "   cout << a + b << endl;\n",
    "}\n",
    "```"
   ]
  },
  {
   "cell_type": "markdown",
   "metadata": {
    "slideshow": {
     "slide_type": "subslide"
    }
   },
   "source": [
    "### $\\LaTeX$\n",
    "Markdown cells can also render$\\LaTeX$ equations, either in line: $p(x)\\propto x^{-\\alpha}e^{-\\beta x}$ or displayed\n",
    "\n",
    "\\begin{equation}\n",
    "\\int  \\frac{d\\theta}{1+\\theta^2}=\n",
    "\\tan^{-1}\\theta+C\n",
    "\\end{equation}"
   ]
  },
  {
   "cell_type": "markdown",
   "metadata": {},
   "source": [
    "```Latex\n",
    "Markdown cells can also render $\\LaTeX$ equations, either in line: $p(x)\\propto x^{-\\alpha}e^{-\\beta x}$ or displayed\n",
    "\\begin{equation}\n",
    "\\int  \\frac{d\\theta}{1+\\theta^2}=\\tan^{-1}\\theta+C\n",
    "\\end{equation}\n",
    "```"
   ]
  },
  {
   "cell_type": "markdown",
   "metadata": {
    "slideshow": {
     "slide_type": "subslide"
    }
   },
   "source": [
    "###HTML\n",
    "```\n",
    "<table>\n",
    "    <tr>\n",
    "        <th>Header 1</th>\n",
    "        <th>Header 2</th>\n",
    "    </tr>\n",
    "    <tr>\n",
    "        <td>row 1, cell 1</td>\n",
    "        <td>row 1, cell 2</td>\n",
    "    </tr>\n",
    "    <tr>\n",
    "        <td>row 2, cell 1</td>\n",
    "        <td>row 2, cell 2</td>\n",
    "    </tr>\n",
    "</table>\n",
    "```"
   ]
  },
  {
   "cell_type": "markdown",
   "metadata": {},
   "source": [
    "<table>\n",
    "<tr>\n",
    "<th>Header 1</th>\n",
    "<th>Header 2</th>\n",
    "</tr>\n",
    "<tr>\n",
    "<td>row 1, cell 1</td>\n",
    "<td>row 1, cell 2</td>\n",
    "</tr>\n",
    "<tr>\n",
    "<td>row 2, cell 1</td>\n",
    "<td>row 2, cell 2</td>\n",
    "</tr>\n",
    "</table>\n"
   ]
  },
  {
   "cell_type": "markdown",
   "metadata": {
    "slideshow": {
     "slide_type": "subslide"
    }
   },
   "source": [
    "###Images\n",
    "There are many different ways to insert images into IPython notebooks. Markdown cells support both the Markdown syntax \n",
    "```markdown\n",
    "![img](./img/ipython.png)\n",
    "```\n",
    "and the HTML syntax.\n",
    "```HTML\n",
    "<img src=\"./img/ipython.png\" width=\"200\">\n",
    "```\n",
    "<img src=\"./img/ipython.png\">\n",
    "The HTML is more flexible since it gives you more control on how the image is gonna be displayed."
   ]
  },
  {
   "cell_type": "markdown",
   "metadata": {
    "slideshow": {
     "slide_type": "subslide"
    }
   },
   "source": [
    "###Videos\n",
    "It's also possible to embed videos into Markdown cells.\n",
    "```HTML\n",
    "<video controls src=\"./img/animation.m4v\" />\n",
    "```\n",
    "<video controls  src=\"./img/animation.m4v\"  />"
   ]
  },
  {
   "cell_type": "markdown",
   "metadata": {
    "slideshow": {
     "slide_type": "slide"
    }
   },
   "source": [
    "##IPython magics\n",
    "IPython has a set of predefined ‘magic functions’ that you can call with a command line style syntax. There are two kinds of magics, line-oriented and cell-oriented. \n",
    " * %timeit\n",
    " * %store\n",
    " \n",
    "*you read more about these and other magic functions here: https://ipython.org/ipython-doc/dev/interactive/tutorial.html#magic-functions\n"
   ]
  },
  {
   "cell_type": "markdown",
   "metadata": {
    "slideshow": {
     "slide_type": "slide"
    }
   },
   "source": [
    "## %timeit\n",
    "Simple way to test the running time of a piece of code"
   ]
  },
  {
   "cell_type": "code",
   "execution_count": 98,
   "metadata": {
    "collapsed": true
   },
   "outputs": [],
   "source": [
    "def fib(n):\n",
    "    if n<=2:\n",
    "        result= 1\n",
    "    else:\n",
    "        result = fib(n-1)+fib(n-2)\n",
    "    return result\n",
    "\n",
    "def fib_prev(n):\n",
    "    prev1 = 0\n",
    "    prev2 = 1\n",
    "    for i in range(n):\n",
    "        prev1,prev2 = prev2,prev1+prev2\n",
    "    return prev1\n",
    "\n",
    "memo = {}\n",
    "def memoized_fib(n):\n",
    "    if memo.has_key(n):\n",
    "        return memo[n]\n",
    "    else:\n",
    "        if n == 1 or n == 2:\n",
    "            result = 1\n",
    "        else:\n",
    "            result = memoized_fib(n-1) + memoized_fib(n-2)\n",
    "        memo[n] = result\n",
    "        return result\n"
   ]
  },
  {
   "cell_type": "code",
   "execution_count": 107,
   "metadata": {
    "collapsed": false
   },
   "outputs": [
    {
     "name": "stdout",
     "output_type": "stream",
     "text": [
      "1 loops, best of 3: 270 ms per loop\n"
     ]
    }
   ],
   "source": [
    "%timeit fib(30)"
   ]
  },
  {
   "cell_type": "code",
   "execution_count": 59,
   "metadata": {
    "collapsed": false
   },
   "outputs": [
    {
     "name": "stdout",
     "output_type": "stream",
     "text": [
      "100000 loops, best of 3: 4.49 µs per loop\n"
     ]
    }
   ],
   "source": [
    "%timeit fib_prev(30)"
   ]
  },
  {
   "cell_type": "code",
   "execution_count": 63,
   "metadata": {
    "collapsed": false
   },
   "outputs": [
    {
     "name": "stdout",
     "output_type": "stream",
     "text": [
      "The slowest run took 10.86 times longer than the fastest. This could mean that an intermediate result is being cached \n",
      "1000000 loops, best of 3: 263 ns per loop\n"
     ]
    }
   ],
   "source": [
    "%timeit memoized_fib(30)"
   ]
  },
  {
   "cell_type": "code",
   "execution_count": 111,
   "metadata": {
    "collapsed": false,
    "slideshow": {
     "slide_type": "slide"
    }
   },
   "outputs": [
    {
     "name": "stdout",
     "output_type": "stream",
     "text": [
      "10 loops, best of 3: 36.2 µs per loop\n",
      "10 loops, best of 3: 1.91 µs per loop\n",
      "10 loops, best of 3: 691 ns per loop\n",
      "10 loops, best of 3: 27.4 µs per loop\n",
      "10 loops, best of 3: 1.48 µs per loop\n",
      "10 loops, best of 3: 501 ns per loop\n",
      "10 loops, best of 3: 71.2 µs per loop\n",
      "10 loops, best of 3: 2.88 µs per loop\n",
      "10 loops, best of 3: 691 ns per loop\n",
      "10 loops, best of 3: 75.3 µs per loop\n",
      "10 loops, best of 3: 1.6 µs per loop\n",
      "10 loops, best of 3: 501 ns per loop\n",
      "10 loops, best of 3: 166 µs per loop\n",
      "10 loops, best of 3: 2.81 µs per loop\n",
      "10 loops, best of 3: 310 ns per loop\n",
      "10 loops, best of 3: 190 µs per loop\n",
      "10 loops, best of 3: 1.79 µs per loop\n",
      "10 loops, best of 3: 310 ns per loop\n",
      "10 loops, best of 3: 308 µs per loop\n",
      "10 loops, best of 3: 1.79 µs per loop\n",
      "10 loops, best of 3: 286 ns per loop\n",
      "10 loops, best of 3: 504 µs per loop\n",
      "10 loops, best of 3: 1.91 µs per loop\n",
      "10 loops, best of 3: 286 ns per loop\n",
      "10 loops, best of 3: 834 µs per loop\n",
      "10 loops, best of 3: 1.98 µs per loop\n",
      "10 loops, best of 3: 310 ns per loop\n",
      "10 loops, best of 3: 1.36 ms per loop\n",
      "10 loops, best of 3: 2.1 µs per loop\n",
      "10 loops, best of 3: 286 ns per loop\n",
      "10 loops, best of 3: 2.33 ms per loop\n",
      "10 loops, best of 3: 2.1 µs per loop\n",
      "10 loops, best of 3: 310 ns per loop\n",
      "10 loops, best of 3: 3.72 ms per loop\n",
      "10 loops, best of 3: 2.19 µs per loop\n",
      "10 loops, best of 3: 310 ns per loop\n",
      "10 loops, best of 3: 5.59 ms per loop\n",
      "10 loops, best of 3: 2.19 µs per loop\n",
      "10 loops, best of 3: 310 ns per loop\n",
      "10 loops, best of 3: 9.3 ms per loop\n",
      "10 loops, best of 3: 2.38 µs per loop\n",
      "10 loops, best of 3: 310 ns per loop\n",
      "10 loops, best of 3: 15.7 ms per loop\n",
      "10 loops, best of 3: 2.31 µs per loop\n",
      "10 loops, best of 3: 310 ns per loop\n",
      "10 loops, best of 3: 28.1 ms per loop\n",
      "10 loops, best of 3: 2.41 µs per loop\n",
      "10 loops, best of 3: 310 ns per loop\n",
      "10 loops, best of 3: 43.6 ms per loop\n",
      "10 loops, best of 3: 2.5 µs per loop\n",
      "10 loops, best of 3: 286 ns per loop\n",
      "10 loops, best of 3: 65.3 ms per loop\n",
      "10 loops, best of 3: 2.6 µs per loop\n",
      "10 loops, best of 3: 310 ns per loop\n",
      "10 loops, best of 3: 107 ms per loop\n",
      "10 loops, best of 3: 4.01 µs per loop\n",
      "10 loops, best of 3: 501 ns per loop\n",
      "10 loops, best of 3: 168 ms per loop\n",
      "10 loops, best of 3: 2.69 µs per loop\n",
      "10 loops, best of 3: 286 ns per loop\n"
     ]
    }
   ],
   "source": [
    "times_recursive = []\n",
    "times_iter = []\n",
    "times_dynamic = []\n",
    "for i in range(10,30):\n",
    "    t1 = %timeit -o -n 10 fib(i)\n",
    "    t2 = %timeit -o -n 10 fib_prev(i)    \n",
    "    t3 = %timeit -o -n 10 memoized_fib(i)    \n",
    "    times_recursive.append(t1.best)\n",
    "    times_iter.append(t2.best)    \n",
    "    times_dynamic.append(t3.best)        "
   ]
  },
  {
   "cell_type": "code",
   "execution_count": 125,
   "metadata": {
    "collapsed": false
   },
   "outputs": [
    {
     "data": {
      "text/plain": [
       "[<matplotlib.lines.Line2D at 0x10a753c50>]"
      ]
     },
     "execution_count": 125,
     "metadata": {},
     "output_type": "execute_result"
    },
    {
     "data": {
      "image/png": "[encoded data removed]",
      "text/plain": [
       "<matplotlib.figure.Figure at 0x10a8a1dd0>"
      ]
     },
     "metadata": {},
     "output_type": "display_data"
    }
   ],
   "source": [
    "import matplotlib.pyplot as plt\n",
    "%matplotlib inline\n",
    "plt.plot(range(10,30),times_recursive)\n",
    "plt.plot(range(10,30),times_iter)\n",
    "plt.plot(range(10,30),times_dynamic)"
   ]
  },
  {
   "cell_type": "markdown",
   "metadata": {
    "slideshow": {
     "slide_type": "slide"
    }
   },
   "source": [
    "##%store\n",
    "The %store magic provides a lightweight storage.\n"
   ]
  },
  {
   "cell_type": "code",
   "execution_count": 126,
   "metadata": {
    "collapsed": false,
    "slideshow": {
     "slide_type": "fragment"
    }
   },
   "outputs": [
    {
     "name": "stdout",
     "output_type": "stream",
     "text": [
      "Stored 'times_recursive' (list)\n",
      "Stored 'times_iter' (list)\n",
      "Stored 'times_dynamic' (list)\n"
     ]
    }
   ],
   "source": [
    "%store times_recursive\n",
    "%store times_iter\n",
    "%store times_dynamic"
   ]
  },
  {
   "cell_type": "code",
   "execution_count": 129,
   "metadata": {
    "collapsed": false,
    "slideshow": {
     "slide_type": "fragment"
    }
   },
   "outputs": [
    {
     "name": "stdout",
     "output_type": "stream",
     "text": [
      "Stored variables and their in-db values:\n",
      "times_dynamic               -> [6.914138793945312e-07, 5.006790161132813e-07, 6.9\n",
      "times_iter                  -> [1.9073486328125e-06, 1.4781951904296875e-06, 2.88\n",
      "times_recursive             -> [3.619194030761719e-05, 2.7394294738769533e-05, 7.\n"
     ]
    }
   ],
   "source": [
    "%store "
   ]
  },
  {
   "cell_type": "markdown",
   "metadata": {
    "slideshow": {
     "slide_type": "subslide"
    }
   },
   "source": [
    "restarting the kernel"
   ]
  },
  {
   "cell_type": "code",
   "execution_count": 2,
   "metadata": {
    "collapsed": false,
    "slideshow": {
     "slide_type": "fragment"
    }
   },
   "outputs": [
    {
     "name": "stdout",
     "output_type": "stream",
     "text": [
      "Interactive namespace is empty.\n"
     ]
    }
   ],
   "source": [
    "%who"
   ]
  },
  {
   "cell_type": "code",
   "execution_count": 3,
   "metadata": {
    "collapsed": true,
    "slideshow": {
     "slide_type": "fragment"
    }
   },
   "outputs": [],
   "source": [
    "%store -r"
   ]
  },
  {
   "cell_type": "code",
   "execution_count": 4,
   "metadata": {
    "collapsed": false,
    "slideshow": {
     "slide_type": "fragment"
    }
   },
   "outputs": [
    {
     "name": "stdout",
     "output_type": "stream",
     "text": [
      "times_dynamic\t times_iter\t times_recursive\t \n"
     ]
    }
   ],
   "source": [
    "%who"
   ]
  },
  {
   "cell_type": "code",
   "execution_count": 5,
   "metadata": {
    "collapsed": false
   },
   "outputs": [
    {
     "data": {
      "text/plain": [
       "[6.914138793945312e-07,\n",
       " 5.006790161132813e-07,\n",
       " 6.914138793945312e-07,\n",
       " 5.006790161132813e-07,\n",
       " 3.0994415283203126e-07,\n",
       " 3.0994415283203126e-07,\n",
       " 2.86102294921875e-07,\n",
       " 2.86102294921875e-07,\n",
       " 3.0994415283203126e-07,\n",
       " 2.86102294921875e-07,\n",
       " 3.0994415283203126e-07,\n",
       " 3.0994415283203126e-07,\n",
       " 3.0994415283203126e-07,\n",
       " 3.0994415283203126e-07,\n",
       " 3.0994415283203126e-07,\n",
       " 3.0994415283203126e-07,\n",
       " 2.86102294921875e-07,\n",
       " 3.0994415283203126e-07,\n",
       " 5.006790161132813e-07,\n",
       " 2.86102294921875e-07]"
      ]
     },
     "execution_count": 5,
     "metadata": {},
     "output_type": "execute_result"
    }
   ],
   "source": [
    "times_dynamic"
   ]
  }
 ],
 "metadata": {
  "celltoolbar": "Slideshow",
  "kernelspec": {
   "display_name": "Python 2",
   "language": "python",
   "name": "python2"
  },
  "language_info": {
   "codemirror_mode": {
    "name": "ipython",
    "version": 2
   },
   "file_extension": ".py",
   "mimetype": "text/x-python",
   "name": "python",
   "nbconvert_exporter": "python",
   "pygments_lexer": "ipython2",
   "version": "2.7.8"
  }
 },
 "nbformat": 4,
 "nbformat_minor": 0
}
